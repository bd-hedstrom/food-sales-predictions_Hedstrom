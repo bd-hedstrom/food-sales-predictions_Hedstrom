{
  "nbformat": 4,
  "nbformat_minor": 0,
  "metadata": {
    "colab": {
      "name": "Project 2_Hedstromipynb",
      "provenance": [],
      "mount_file_id": "1L2RhO7mqYRwLpSOCqbYI-et00M6U9HId",
      "authorship_tag": "ABX9TyOmmsjfp/Uf9+MpkNSE65ef",
      "include_colab_link": true
    },
    "kernelspec": {
      "name": "python3",
      "display_name": "Python 3"
    },
    "language_info": {
      "name": "python"
    }
  },
  "cells": [
    {
      "cell_type": "markdown",
      "metadata": {
        "id": "view-in-github",
        "colab_type": "text"
      },
      "source": [
        "<a href=\"https://colab.research.google.com/github/bd-hedstrom/food-sales-predictions_Hedstrom/blob/main/Project_2_Hedstrom.ipynb\" target=\"_parent\"><img src=\"https://colab.research.google.com/assets/colab-badge.svg\" alt=\"Open In Colab\"/></a>"
      ]
    },
    {
      "cell_type": "markdown",
      "metadata": {
        "id": "6NGMDb00TlGp"
      },
      "source": [
        "# Choice 1: Japanese Whiskey Reviews\n"
      ]
    },
    {
      "cell_type": "markdown",
      "metadata": {
        "id": "GpXNSDZAUUuw"
      },
      "source": [
        "**1) Source of data**\n",
        "\n",
        " https://www.kaggle.com/koki25ando/japanese-whisky-review"
      ]
    },
    {
      "cell_type": "markdown",
      "metadata": {
        "id": "Chdox5VQUr4g"
      },
      "source": [
        "**2) Brief description of the data**\n",
        "\n",
        "A collection of reviews of 4 top selling japanese whiskey brands."
      ]
    },
    {
      "cell_type": "markdown",
      "metadata": {
        "id": "TkzD0iSGVibB"
      },
      "source": [
        "**3) What is the target?**"
      ]
    },
    {
      "cell_type": "markdown",
      "metadata": {
        "id": "Dum5ePF1WNR4"
      },
      "source": [
        "**4) Is this a classification or regression problem?**\n",
        "\n",
        "I believe this would require a classification oriented approach as I would be evaluating whether the rating is good, bad or somewhere in the middle"
      ]
    },
    {
      "cell_type": "markdown",
      "metadata": {
        "id": "DILvvu_GXmxP"
      },
      "source": [
        "**5) How many features?**\n",
        "\n",
        "5"
      ]
    },
    {
      "cell_type": "markdown",
      "metadata": {
        "id": "-GeHy8chYCGn"
      },
      "source": [
        "**6) How many rows of data?**\n",
        "\n",
        "1130"
      ]
    },
    {
      "cell_type": "markdown",
      "metadata": {
        "id": "_Y9XLNKpapoF"
      },
      "source": [
        "**7) What, if any, challenges do your foresee in cleaning, exploring, or modeling with this dataset?**\n",
        "\n",
        "The reviews themselves might be a bit of a nightmare. Inconsistent/Incorrect spelling, unclear opinions..Might be a difficult task. However, I think being strategic and filtering for specific buzzwords to gather some insightful data would be fun!"
      ]
    },
    {
      "cell_type": "code",
      "metadata": {
        "colab": {
          "base_uri": "https://localhost:8080/",
          "height": 202
        },
        "id": "OfcVpHMYYSpW",
        "outputId": "5019a9f6-ee70-45db-b879-c4c922989a29"
      },
      "source": [
        "import pandas as pd\n",
        "\n",
        "filename = '/content/japanese_whisky_review.csv'\n",
        "raw_whiskey_data = pd.read_csv(filename)\n",
        "raw_whiskey_data.head()"
      ],
      "execution_count": 2,
      "outputs": [
        {
          "output_type": "execute_result",
          "data": {
            "text/html": [
              "<div>\n",
              "<style scoped>\n",
              "    .dataframe tbody tr th:only-of-type {\n",
              "        vertical-align: middle;\n",
              "    }\n",
              "\n",
              "    .dataframe tbody tr th {\n",
              "        vertical-align: top;\n",
              "    }\n",
              "\n",
              "    .dataframe thead th {\n",
              "        text-align: right;\n",
              "    }\n",
              "</style>\n",
              "<table border=\"1\" class=\"dataframe\">\n",
              "  <thead>\n",
              "    <tr style=\"text-align: right;\">\n",
              "      <th></th>\n",
              "      <th>Unnamed: 0</th>\n",
              "      <th>Bottle_name</th>\n",
              "      <th>Brand</th>\n",
              "      <th>Title</th>\n",
              "      <th>Review_Content</th>\n",
              "    </tr>\n",
              "  </thead>\n",
              "  <tbody>\n",
              "    <tr>\n",
              "      <th>0</th>\n",
              "      <td>1</td>\n",
              "      <td>The Yamazaki Single Malt Whisky - Distiller’s ...</td>\n",
              "      <td>Yamazaki</td>\n",
              "      <td>Overpriced dissapointment</td>\n",
              "      <td>Dull taste. High price. No finish. Over-hyped ...</td>\n",
              "    </tr>\n",
              "    <tr>\n",
              "      <th>1</th>\n",
              "      <td>2</td>\n",
              "      <td>The Yamazaki Single Malt Whisky - Distiller’s ...</td>\n",
              "      <td>Yamazaki</td>\n",
              "      <td>Delicious</td>\n",
              "      <td>Delicious! sugared red fruits and sweet with a...</td>\n",
              "    </tr>\n",
              "    <tr>\n",
              "      <th>2</th>\n",
              "      <td>3</td>\n",
              "      <td>The Yamazaki Single Malt Whisky - Distiller’s ...</td>\n",
              "      <td>Yamazaki</td>\n",
              "      <td>Good for beginners. i know cos i am a beginner</td>\n",
              "      <td>I am not a whisky expert but i really love the...</td>\n",
              "    </tr>\n",
              "    <tr>\n",
              "      <th>3</th>\n",
              "      <td>4</td>\n",
              "      <td>The Yamazaki Single Malt Whisky - Distiller’s ...</td>\n",
              "      <td>Yamazaki</td>\n",
              "      <td>Yamazaki Tutorial</td>\n",
              "      <td>This is a terrible Yamazaki.  Very young, unsh...</td>\n",
              "    </tr>\n",
              "    <tr>\n",
              "      <th>4</th>\n",
              "      <td>5</td>\n",
              "      <td>The Yamazaki Single Malt Whisky - Distiller’s ...</td>\n",
              "      <td>Yamazaki</td>\n",
              "      <td>Very Nice</td>\n",
              "      <td>First time and I like it - fresh but not thin ...</td>\n",
              "    </tr>\n",
              "  </tbody>\n",
              "</table>\n",
              "</div>"
            ],
            "text/plain": [
              "   Unnamed: 0  ...                                     Review_Content\n",
              "0           1  ...  Dull taste. High price. No finish. Over-hyped ...\n",
              "1           2  ...  Delicious! sugared red fruits and sweet with a...\n",
              "2           3  ...  I am not a whisky expert but i really love the...\n",
              "3           4  ...  This is a terrible Yamazaki.  Very young, unsh...\n",
              "4           5  ...  First time and I like it - fresh but not thin ...\n",
              "\n",
              "[5 rows x 5 columns]"
            ]
          },
          "metadata": {},
          "execution_count": 2
        }
      ]
    },
    {
      "cell_type": "code",
      "metadata": {
        "colab": {
          "base_uri": "https://localhost:8080/"
        },
        "id": "N5R23M2cYfz_",
        "outputId": "c6fb5f9e-961a-45be-85ee-79aabb9816ed"
      },
      "source": [
        "raw_whiskey_data.shape"
      ],
      "execution_count": 4,
      "outputs": [
        {
          "output_type": "execute_result",
          "data": {
            "text/plain": [
              "(1130, 5)"
            ]
          },
          "metadata": {},
          "execution_count": 4
        }
      ]
    },
    {
      "cell_type": "markdown",
      "metadata": {
        "id": "VfznoU_DTvBp"
      },
      "source": [
        "## Choice 2: Video Game Sales"
      ]
    },
    {
      "cell_type": "markdown",
      "metadata": {
        "id": "e8S6ZoCCUMOQ"
      },
      "source": [
        "**1) Source of data**\n",
        "\n",
        "https://www.kaggle.com/gregorut/videogamesales"
      ]
    },
    {
      "cell_type": "markdown",
      "metadata": {
        "id": "qr8IJLTkUbGY"
      },
      "source": [
        "**2) Brief description of data**\n",
        "\n",
        "A compilation of reviews of various video games"
      ]
    },
    {
      "cell_type": "markdown",
      "metadata": {
        "id": "-ehIeXpfUvPI"
      },
      "source": [
        "**2) Brief description of the data**\n",
        "\n",
        " List of video game sales consisting of titles which sold more than 100,000 copies"
      ]
    },
    {
      "cell_type": "markdown",
      "metadata": {
        "id": "M2dsZC0YVlZg"
      },
      "source": [
        "**3) What is the target?**"
      ]
    },
    {
      "cell_type": "markdown",
      "metadata": {
        "id": "kOaRUca6WMeI"
      },
      "source": [
        "**4) Is this a classification or regression problem?**\n",
        "\n",
        "I believe this would be a regression problem"
      ]
    },
    {
      "cell_type": "markdown",
      "metadata": {
        "id": "NgV_eZqqXr8n"
      },
      "source": [
        "**5) How many features?**\n",
        "\n",
        "11"
      ]
    },
    {
      "cell_type": "markdown",
      "metadata": {
        "id": "qIQpOZWFYFsn"
      },
      "source": [
        "**6) How many rows of data?**\n",
        "\n",
        "16598"
      ]
    },
    {
      "cell_type": "markdown",
      "metadata": {
        "id": "a7ksQSOIZqpk"
      },
      "source": [
        "**7) What, if any, challenges do your foresee in cleaning, exploring, or modeling with this dataset?**\n",
        "\n",
        "I think finding the most appropriate scope would be the most challenging as there is a massive amount of data to narrow down to tell a proper story with the data. The data itself seems very consistent but I think making sure there aren't any hidden spaces or checking for data types will also be a concern."
      ]
    },
    {
      "cell_type": "code",
      "metadata": {
        "colab": {
          "base_uri": "https://localhost:8080/",
          "height": 202
        },
        "id": "cDnEW57SZWNw",
        "outputId": "70b9f354-9526-4259-8e36-b39c596211ce"
      },
      "source": [
        "import pandas as pd\n",
        "\n",
        "filename = '/content/videoGameSales.csv'\n",
        "raw_VG_data = pd.read_csv(filename)\n",
        "raw_VG_data.head()"
      ],
      "execution_count": 5,
      "outputs": [
        {
          "output_type": "execute_result",
          "data": {
            "text/html": [
              "<div>\n",
              "<style scoped>\n",
              "    .dataframe tbody tr th:only-of-type {\n",
              "        vertical-align: middle;\n",
              "    }\n",
              "\n",
              "    .dataframe tbody tr th {\n",
              "        vertical-align: top;\n",
              "    }\n",
              "\n",
              "    .dataframe thead th {\n",
              "        text-align: right;\n",
              "    }\n",
              "</style>\n",
              "<table border=\"1\" class=\"dataframe\">\n",
              "  <thead>\n",
              "    <tr style=\"text-align: right;\">\n",
              "      <th></th>\n",
              "      <th>Rank</th>\n",
              "      <th>Name</th>\n",
              "      <th>Platform</th>\n",
              "      <th>Year</th>\n",
              "      <th>Genre</th>\n",
              "      <th>Publisher</th>\n",
              "      <th>NA_Sales</th>\n",
              "      <th>EU_Sales</th>\n",
              "      <th>JP_Sales</th>\n",
              "      <th>Other_Sales</th>\n",
              "      <th>Global_Sales</th>\n",
              "    </tr>\n",
              "  </thead>\n",
              "  <tbody>\n",
              "    <tr>\n",
              "      <th>0</th>\n",
              "      <td>1</td>\n",
              "      <td>Wii Sports</td>\n",
              "      <td>Wii</td>\n",
              "      <td>2006.0</td>\n",
              "      <td>Sports</td>\n",
              "      <td>Nintendo</td>\n",
              "      <td>41.49</td>\n",
              "      <td>29.02</td>\n",
              "      <td>3.77</td>\n",
              "      <td>8.46</td>\n",
              "      <td>82.74</td>\n",
              "    </tr>\n",
              "    <tr>\n",
              "      <th>1</th>\n",
              "      <td>2</td>\n",
              "      <td>Super Mario Bros.</td>\n",
              "      <td>NES</td>\n",
              "      <td>1985.0</td>\n",
              "      <td>Platform</td>\n",
              "      <td>Nintendo</td>\n",
              "      <td>29.08</td>\n",
              "      <td>3.58</td>\n",
              "      <td>6.81</td>\n",
              "      <td>0.77</td>\n",
              "      <td>40.24</td>\n",
              "    </tr>\n",
              "    <tr>\n",
              "      <th>2</th>\n",
              "      <td>3</td>\n",
              "      <td>Mario Kart Wii</td>\n",
              "      <td>Wii</td>\n",
              "      <td>2008.0</td>\n",
              "      <td>Racing</td>\n",
              "      <td>Nintendo</td>\n",
              "      <td>15.85</td>\n",
              "      <td>12.88</td>\n",
              "      <td>3.79</td>\n",
              "      <td>3.31</td>\n",
              "      <td>35.82</td>\n",
              "    </tr>\n",
              "    <tr>\n",
              "      <th>3</th>\n",
              "      <td>4</td>\n",
              "      <td>Wii Sports Resort</td>\n",
              "      <td>Wii</td>\n",
              "      <td>2009.0</td>\n",
              "      <td>Sports</td>\n",
              "      <td>Nintendo</td>\n",
              "      <td>15.75</td>\n",
              "      <td>11.01</td>\n",
              "      <td>3.28</td>\n",
              "      <td>2.96</td>\n",
              "      <td>33.00</td>\n",
              "    </tr>\n",
              "    <tr>\n",
              "      <th>4</th>\n",
              "      <td>5</td>\n",
              "      <td>Pokemon Red/Pokemon Blue</td>\n",
              "      <td>GB</td>\n",
              "      <td>1996.0</td>\n",
              "      <td>Role-Playing</td>\n",
              "      <td>Nintendo</td>\n",
              "      <td>11.27</td>\n",
              "      <td>8.89</td>\n",
              "      <td>10.22</td>\n",
              "      <td>1.00</td>\n",
              "      <td>31.37</td>\n",
              "    </tr>\n",
              "  </tbody>\n",
              "</table>\n",
              "</div>"
            ],
            "text/plain": [
              "   Rank                      Name Platform  ...  JP_Sales Other_Sales Global_Sales\n",
              "0     1                Wii Sports      Wii  ...      3.77        8.46        82.74\n",
              "1     2         Super Mario Bros.      NES  ...      6.81        0.77        40.24\n",
              "2     3            Mario Kart Wii      Wii  ...      3.79        3.31        35.82\n",
              "3     4         Wii Sports Resort      Wii  ...      3.28        2.96        33.00\n",
              "4     5  Pokemon Red/Pokemon Blue       GB  ...     10.22        1.00        31.37\n",
              "\n",
              "[5 rows x 11 columns]"
            ]
          },
          "metadata": {},
          "execution_count": 5
        }
      ]
    },
    {
      "cell_type": "code",
      "metadata": {
        "colab": {
          "base_uri": "https://localhost:8080/"
        },
        "id": "YuMGU2uwZaSG",
        "outputId": "ba8fe589-cad1-4b73-e295-52bb90c4ac7d"
      },
      "source": [
        "raw_VG_data.shape"
      ],
      "execution_count": 6,
      "outputs": [
        {
          "output_type": "execute_result",
          "data": {
            "text/plain": [
              "(16598, 11)"
            ]
          },
          "metadata": {},
          "execution_count": 6
        }
      ]
    }
  ]
}