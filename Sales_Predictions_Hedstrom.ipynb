{
  "nbformat": 4,
  "nbformat_minor": 0,
  "metadata": {
    "colab": {
      "name": "Sales-Predictions_Hedstrom.ipynb",
      "provenance": [],
      "authorship_tag": "ABX9TyOoz1Pa8JYUAfiL/J+QWzE8",
      "include_colab_link": true
    },
    "kernelspec": {
      "name": "python3",
      "display_name": "Python 3"
    },
    "language_info": {
      "name": "python"
    }
  },
  "cells": [
    {
      "cell_type": "markdown",
      "metadata": {
        "id": "view-in-github",
        "colab_type": "text"
      },
      "source": [
        "<a href=\"https://colab.research.google.com/github/bd-hedstrom/food-sales-predictions_Hedstrom/blob/main/Sales_Predictions_Hedstrom.ipynb\" target=\"_parent\"><img src=\"https://colab.research.google.com/assets/colab-badge.svg\" alt=\"Open In Colab\"/></a>"
      ]
    },
    {
      "cell_type": "code",
      "metadata": {
        "id": "B9JK6u4NeNn7"
      },
      "source": [
        "import pandas as pd"
      ],
      "execution_count": 10,
      "outputs": []
    },
    {
      "cell_type": "code",
      "metadata": {
        "colab": {
          "base_uri": "https://localhost:8080/",
          "height": 309
        },
        "id": "YuacKkQnebnJ",
        "outputId": "8f738f2c-00a6-41b6-b368-5ad2eabf4442"
      },
      "source": [
        "filename = '/content/sales_predictions.csv'\n",
        "df = pd.read_csv(filename)\n",
        "df.head()"
      ],
      "execution_count": 11,
      "outputs": [
        {
          "output_type": "execute_result",
          "data": {
            "text/html": [
              "<div>\n",
              "<style scoped>\n",
              "    .dataframe tbody tr th:only-of-type {\n",
              "        vertical-align: middle;\n",
              "    }\n",
              "\n",
              "    .dataframe tbody tr th {\n",
              "        vertical-align: top;\n",
              "    }\n",
              "\n",
              "    .dataframe thead th {\n",
              "        text-align: right;\n",
              "    }\n",
              "</style>\n",
              "<table border=\"1\" class=\"dataframe\">\n",
              "  <thead>\n",
              "    <tr style=\"text-align: right;\">\n",
              "      <th></th>\n",
              "      <th>Item_Identifier</th>\n",
              "      <th>Item_Weight</th>\n",
              "      <th>Item_Fat_Content</th>\n",
              "      <th>Item_Visibility</th>\n",
              "      <th>Item_Type</th>\n",
              "      <th>Item_MRP</th>\n",
              "      <th>Outlet_Identifier</th>\n",
              "      <th>Outlet_Establishment_Year</th>\n",
              "      <th>Outlet_Size</th>\n",
              "      <th>Outlet_Location_Type</th>\n",
              "      <th>Outlet_Type</th>\n",
              "      <th>Item_Outlet_Sales</th>\n",
              "    </tr>\n",
              "  </thead>\n",
              "  <tbody>\n",
              "    <tr>\n",
              "      <th>0</th>\n",
              "      <td>FDA15</td>\n",
              "      <td>9.30</td>\n",
              "      <td>Low Fat</td>\n",
              "      <td>0.016047</td>\n",
              "      <td>Dairy</td>\n",
              "      <td>249.8092</td>\n",
              "      <td>OUT049</td>\n",
              "      <td>1999</td>\n",
              "      <td>Medium</td>\n",
              "      <td>Tier 1</td>\n",
              "      <td>Supermarket Type1</td>\n",
              "      <td>3735.1380</td>\n",
              "    </tr>\n",
              "    <tr>\n",
              "      <th>1</th>\n",
              "      <td>DRC01</td>\n",
              "      <td>5.92</td>\n",
              "      <td>Regular</td>\n",
              "      <td>0.019278</td>\n",
              "      <td>Soft Drinks</td>\n",
              "      <td>48.2692</td>\n",
              "      <td>OUT018</td>\n",
              "      <td>2009</td>\n",
              "      <td>Medium</td>\n",
              "      <td>Tier 3</td>\n",
              "      <td>Supermarket Type2</td>\n",
              "      <td>443.4228</td>\n",
              "    </tr>\n",
              "    <tr>\n",
              "      <th>2</th>\n",
              "      <td>FDN15</td>\n",
              "      <td>17.50</td>\n",
              "      <td>Low Fat</td>\n",
              "      <td>0.016760</td>\n",
              "      <td>Meat</td>\n",
              "      <td>141.6180</td>\n",
              "      <td>OUT049</td>\n",
              "      <td>1999</td>\n",
              "      <td>Medium</td>\n",
              "      <td>Tier 1</td>\n",
              "      <td>Supermarket Type1</td>\n",
              "      <td>2097.2700</td>\n",
              "    </tr>\n",
              "    <tr>\n",
              "      <th>3</th>\n",
              "      <td>FDX07</td>\n",
              "      <td>19.20</td>\n",
              "      <td>Regular</td>\n",
              "      <td>0.000000</td>\n",
              "      <td>Fruits and Vegetables</td>\n",
              "      <td>182.0950</td>\n",
              "      <td>OUT010</td>\n",
              "      <td>1998</td>\n",
              "      <td>NaN</td>\n",
              "      <td>Tier 3</td>\n",
              "      <td>Grocery Store</td>\n",
              "      <td>732.3800</td>\n",
              "    </tr>\n",
              "    <tr>\n",
              "      <th>4</th>\n",
              "      <td>NCD19</td>\n",
              "      <td>8.93</td>\n",
              "      <td>Low Fat</td>\n",
              "      <td>0.000000</td>\n",
              "      <td>Household</td>\n",
              "      <td>53.8614</td>\n",
              "      <td>OUT013</td>\n",
              "      <td>1987</td>\n",
              "      <td>High</td>\n",
              "      <td>Tier 3</td>\n",
              "      <td>Supermarket Type1</td>\n",
              "      <td>994.7052</td>\n",
              "    </tr>\n",
              "  </tbody>\n",
              "</table>\n",
              "</div>"
            ],
            "text/plain": [
              "  Item_Identifier  Item_Weight  ...        Outlet_Type  Item_Outlet_Sales\n",
              "0           FDA15         9.30  ...  Supermarket Type1          3735.1380\n",
              "1           DRC01         5.92  ...  Supermarket Type2           443.4228\n",
              "2           FDN15        17.50  ...  Supermarket Type1          2097.2700\n",
              "3           FDX07        19.20  ...      Grocery Store           732.3800\n",
              "4           NCD19         8.93  ...  Supermarket Type1           994.7052\n",
              "\n",
              "[5 rows x 12 columns]"
            ]
          },
          "metadata": {},
          "execution_count": 11
        }
      ]
    },
    {
      "cell_type": "code",
      "metadata": {
        "id": "kaVbLsfo4ljA",
        "outputId": "e534cadb-710a-40be-a9da-eac8100b6b33",
        "colab": {
          "base_uri": "https://localhost:8080/"
        }
      },
      "source": [
        "df.info()\n",
        "\n",
        "# 12 columns, 8523 rows\n",
        "# object, float, int"
      ],
      "execution_count": 12,
      "outputs": [
        {
          "output_type": "stream",
          "name": "stdout",
          "text": [
            "<class 'pandas.core.frame.DataFrame'>\n",
            "RangeIndex: 8523 entries, 0 to 8522\n",
            "Data columns (total 12 columns):\n",
            " #   Column                     Non-Null Count  Dtype  \n",
            "---  ------                     --------------  -----  \n",
            " 0   Item_Identifier            8523 non-null   object \n",
            " 1   Item_Weight                7060 non-null   float64\n",
            " 2   Item_Fat_Content           8523 non-null   object \n",
            " 3   Item_Visibility            8523 non-null   float64\n",
            " 4   Item_Type                  8523 non-null   object \n",
            " 5   Item_MRP                   8523 non-null   float64\n",
            " 6   Outlet_Identifier          8523 non-null   object \n",
            " 7   Outlet_Establishment_Year  8523 non-null   int64  \n",
            " 8   Outlet_Size                6113 non-null   object \n",
            " 9   Outlet_Location_Type       8523 non-null   object \n",
            " 10  Outlet_Type                8523 non-null   object \n",
            " 11  Item_Outlet_Sales          8523 non-null   float64\n",
            "dtypes: float64(4), int64(1), object(7)\n",
            "memory usage: 799.2+ KB\n"
          ]
        }
      ]
    },
    {
      "cell_type": "code",
      "metadata": {
        "id": "1PKVmrbM4p3X"
      },
      "source": [
        "df = df.drop_duplicates()\n",
        "print(df)\n",
        "# there were seemingly no duplicates as the row count didnt change"
      ],
      "execution_count": 13,
      "outputs": []
    },
    {
      "cell_type": "code",
      "metadata": {
        "id": "xk3S_nGZ5FfJ",
        "outputId": "e7f5ce84-94a4-4a9e-aac5-b4b517f55cb1",
        "colab": {
          "base_uri": "https://localhost:8080/"
        }
      },
      "source": [
        "#Outlet_Size and Item_Weight are missing values\n",
        "average_weight = df['Item_Weight'].mean()\n",
        "df['Item_Weight'] = df['Item_Weight'].fillna(average_weight)\n",
        "# Average weight to fill in the missing data wont skew the aggregate item weight low or high\n",
        "df['Outlet_Size'] = df['Outlet_Size'].fillna('Medium')\n",
        "# Medium is a safe bet to assume as its between High and Low\n",
        "print(df)\n",
        "df.info()"
      ],
      "execution_count": 18,
      "outputs": [
        {
          "output_type": "stream",
          "name": "stdout",
          "text": [
            "     Item_Identifier  Item_Weight  ...        Outlet_Type  Item_Outlet_Sales\n",
            "0              FDA15        9.300  ...  Supermarket Type1          3735.1380\n",
            "1              DRC01        5.920  ...  Supermarket Type2           443.4228\n",
            "2              FDN15       17.500  ...  Supermarket Type1          2097.2700\n",
            "3              FDX07       19.200  ...      Grocery Store           732.3800\n",
            "4              NCD19        8.930  ...  Supermarket Type1           994.7052\n",
            "...              ...          ...  ...                ...                ...\n",
            "8518           FDF22        6.865  ...  Supermarket Type1          2778.3834\n",
            "8519           FDS36        8.380  ...  Supermarket Type1           549.2850\n",
            "8520           NCJ29       10.600  ...  Supermarket Type1          1193.1136\n",
            "8521           FDN46        7.210  ...  Supermarket Type2          1845.5976\n",
            "8522           DRG01       14.800  ...  Supermarket Type1           765.6700\n",
            "\n",
            "[8523 rows x 12 columns]\n",
            "<class 'pandas.core.frame.DataFrame'>\n",
            "Int64Index: 8523 entries, 0 to 8522\n",
            "Data columns (total 12 columns):\n",
            " #   Column                     Non-Null Count  Dtype  \n",
            "---  ------                     --------------  -----  \n",
            " 0   Item_Identifier            8523 non-null   object \n",
            " 1   Item_Weight                8523 non-null   float64\n",
            " 2   Item_Fat_Content           8523 non-null   object \n",
            " 3   Item_Visibility            8523 non-null   float64\n",
            " 4   Item_Type                  8523 non-null   object \n",
            " 5   Item_MRP                   8523 non-null   float64\n",
            " 6   Outlet_Identifier          8523 non-null   object \n",
            " 7   Outlet_Establishment_Year  8523 non-null   int64  \n",
            " 8   Outlet_Size                8523 non-null   object \n",
            " 9   Outlet_Location_Type       8523 non-null   object \n",
            " 10  Outlet_Type                8523 non-null   object \n",
            " 11  Item_Outlet_Sales          8523 non-null   float64\n",
            "dtypes: float64(4), int64(1), object(7)\n",
            "memory usage: 865.6+ KB\n"
          ]
        }
      ]
    },
    {
      "cell_type": "code",
      "metadata": {
        "id": "RU4vUH0X7ff8"
      },
      "source": [
        "# I am unsure of how to fix inconsistent data in this way. I know there are some\n",
        "# fuzzy logic things that could be done or value mapping but I am unsure how\n",
        "# to do them."
      ],
      "execution_count": null,
      "outputs": []
    },
    {
      "cell_type": "code",
      "metadata": {
        "id": "aGjtk2PF7oeh",
        "outputId": "474f7139-7596-4ee2-f2db-82e69b160991",
        "colab": {
          "base_uri": "https://localhost:8080/"
        }
      },
      "source": [
        "print('Item_Weight Stats:')\n",
        "print('Mean', df['Item_Weight'].mean())\n",
        "print('Max', df['Item_Weight'].max())\n",
        "print('Min', df['Item_Weight'].min())\n",
        "\n",
        "print('Item_Visibility Stats:')\n",
        "print('Mean',df['Item_Visibility'].mean())\n",
        "print('Max', df['Item_Visibility'].max())\n",
        "print('Min', df['Item_Visibility'].min())\n",
        "\n",
        "print('Item_MRP Stats:')\n",
        "print('Mean',df['Item_MRP'].mean())\n",
        "print('Max', df['Item_MRP'].max())\n",
        "print('Min', df['Item_MRP'].min())\n",
        "\n",
        "print('Outlet_Establishment_Year Stats:')\n",
        "print('Mean',df['Outlet_Establishment_Year'].mean())\n",
        "print('Max', df['Outlet_Establishment_Year'].max())\n",
        "print('Min', df['Outlet_Establishment_Year'].min())\n",
        "\n",
        "print('Item_Outlet_Sales Stats:')\n",
        "print('Mean',df['Item_Outlet_Sales'].mean())\n",
        "print('Max', df['Item_Outlet_Sales'].max())\n",
        "print('Min', df['Item_Outlet_Sales'].min())"
      ],
      "execution_count": 19,
      "outputs": [
        {
          "output_type": "stream",
          "name": "stdout",
          "text": [
            "Item_Weight Stats:\n",
            "Mean 12.857645184136409\n",
            "Max 21.35\n",
            "Min 4.555\n",
            "Item_Visibility Stats:\n",
            "Mean 0.06613202877895127\n",
            "Max 0.328390948\n",
            "Min 0.0\n",
            "Item_MRP Stats:\n",
            "Mean 140.9927819781768\n",
            "Max 266.8884\n",
            "Min 31.29\n",
            "Outlet_Establishment_Year Stats:\n",
            "Mean 1997.8318667135984\n",
            "Max 2009\n",
            "Min 1985\n",
            "Item_Outlet_Sales Stats:\n",
            "Mean 2181.2889135750365\n",
            "Max 13086.9648\n",
            "Min 33.29\n"
          ]
        }
      ]
    }
  ]
}