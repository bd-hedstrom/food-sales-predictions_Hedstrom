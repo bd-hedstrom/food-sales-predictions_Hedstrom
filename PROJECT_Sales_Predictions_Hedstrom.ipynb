{
  "nbformat": 4,
  "nbformat_minor": 0,
  "metadata": {
    "colab": {
      "name": "PROJECT Sales-Predictions_Hedstrom.ipynb",
      "provenance": [],
      "mount_file_id": "1tO0eqK0SD00C6BGy1bKZ5oYUwxX2ZHNY",
      "authorship_tag": "ABX9TyNPr7Ev+VbK2+G1GwTrRXkN",
      "include_colab_link": true
    },
    "kernelspec": {
      "name": "python3",
      "display_name": "Python 3"
    },
    "language_info": {
      "name": "python"
    }
  },
  "cells": [
    {
      "cell_type": "markdown",
      "metadata": {
        "id": "view-in-github",
        "colab_type": "text"
      },
      "source": [
        "<a href=\"https://colab.research.google.com/github/bd-hedstrom/food-sales-predictions_Hedstrom/blob/main/PROJECT_Sales_Predictions_Hedstrom.ipynb\" target=\"_parent\"><img src=\"https://colab.research.google.com/assets/colab-badge.svg\" alt=\"Open In Colab\"/></a>"
      ]
    },
    {
      "cell_type": "code",
      "metadata": {
        "id": "B9JK6u4NeNn7"
      },
      "source": [
        "import pandas as pd\n",
        "import numpy as np\n",
        "import matplotlib.pyplot as plt\n",
        "import seaborn as sns"
      ],
      "execution_count": 82,
      "outputs": []
    },
    {
      "cell_type": "code",
      "metadata": {
        "colab": {
          "base_uri": "https://localhost:8080/",
          "height": 313
        },
        "id": "YuacKkQnebnJ",
        "outputId": "a6c1b7bd-80af-4837-889f-60f3e8f28985"
      },
      "source": [
        "filename = '/content/sales_predictions (1).csv'\n",
        "raw_sales_data = pd.read_csv(filename)\n",
        "raw_sales_data.head()"
      ],
      "execution_count": 83,
      "outputs": [
        {
          "output_type": "execute_result",
          "data": {
            "text/html": [
              "<div>\n",
              "<style scoped>\n",
              "    .dataframe tbody tr th:only-of-type {\n",
              "        vertical-align: middle;\n",
              "    }\n",
              "\n",
              "    .dataframe tbody tr th {\n",
              "        vertical-align: top;\n",
              "    }\n",
              "\n",
              "    .dataframe thead th {\n",
              "        text-align: right;\n",
              "    }\n",
              "</style>\n",
              "<table border=\"1\" class=\"dataframe\">\n",
              "  <thead>\n",
              "    <tr style=\"text-align: right;\">\n",
              "      <th></th>\n",
              "      <th>Item_Identifier</th>\n",
              "      <th>Item_Weight</th>\n",
              "      <th>Item_Fat_Content</th>\n",
              "      <th>Item_Visibility</th>\n",
              "      <th>Item_Type</th>\n",
              "      <th>Item_MRP</th>\n",
              "      <th>Outlet_Identifier</th>\n",
              "      <th>Outlet_Establishment_Year</th>\n",
              "      <th>Outlet_Size</th>\n",
              "      <th>Outlet_Location_Type</th>\n",
              "      <th>Outlet_Type</th>\n",
              "      <th>Item_Outlet_Sales</th>\n",
              "    </tr>\n",
              "  </thead>\n",
              "  <tbody>\n",
              "    <tr>\n",
              "      <th>0</th>\n",
              "      <td>FDA15</td>\n",
              "      <td>9.30</td>\n",
              "      <td>Low Fat</td>\n",
              "      <td>0.016047</td>\n",
              "      <td>Dairy</td>\n",
              "      <td>249.8092</td>\n",
              "      <td>OUT049</td>\n",
              "      <td>1999</td>\n",
              "      <td>Medium</td>\n",
              "      <td>Tier 1</td>\n",
              "      <td>Supermarket Type1</td>\n",
              "      <td>3735.1380</td>\n",
              "    </tr>\n",
              "    <tr>\n",
              "      <th>1</th>\n",
              "      <td>DRC01</td>\n",
              "      <td>5.92</td>\n",
              "      <td>Regular</td>\n",
              "      <td>0.019278</td>\n",
              "      <td>Soft Drinks</td>\n",
              "      <td>48.2692</td>\n",
              "      <td>OUT018</td>\n",
              "      <td>2009</td>\n",
              "      <td>Medium</td>\n",
              "      <td>Tier 3</td>\n",
              "      <td>Supermarket Type2</td>\n",
              "      <td>443.4228</td>\n",
              "    </tr>\n",
              "    <tr>\n",
              "      <th>2</th>\n",
              "      <td>FDN15</td>\n",
              "      <td>17.50</td>\n",
              "      <td>Low Fat</td>\n",
              "      <td>0.016760</td>\n",
              "      <td>Meat</td>\n",
              "      <td>141.6180</td>\n",
              "      <td>OUT049</td>\n",
              "      <td>1999</td>\n",
              "      <td>Medium</td>\n",
              "      <td>Tier 1</td>\n",
              "      <td>Supermarket Type1</td>\n",
              "      <td>2097.2700</td>\n",
              "    </tr>\n",
              "    <tr>\n",
              "      <th>3</th>\n",
              "      <td>FDX07</td>\n",
              "      <td>19.20</td>\n",
              "      <td>Regular</td>\n",
              "      <td>0.000000</td>\n",
              "      <td>Fruits and Vegetables</td>\n",
              "      <td>182.0950</td>\n",
              "      <td>OUT010</td>\n",
              "      <td>1998</td>\n",
              "      <td>NaN</td>\n",
              "      <td>Tier 3</td>\n",
              "      <td>Grocery Store</td>\n",
              "      <td>732.3800</td>\n",
              "    </tr>\n",
              "    <tr>\n",
              "      <th>4</th>\n",
              "      <td>NCD19</td>\n",
              "      <td>8.93</td>\n",
              "      <td>Low Fat</td>\n",
              "      <td>0.000000</td>\n",
              "      <td>Household</td>\n",
              "      <td>53.8614</td>\n",
              "      <td>OUT013</td>\n",
              "      <td>1987</td>\n",
              "      <td>High</td>\n",
              "      <td>Tier 3</td>\n",
              "      <td>Supermarket Type1</td>\n",
              "      <td>994.7052</td>\n",
              "    </tr>\n",
              "  </tbody>\n",
              "</table>\n",
              "</div>"
            ],
            "text/plain": [
              "  Item_Identifier  Item_Weight  ...        Outlet_Type  Item_Outlet_Sales\n",
              "0           FDA15         9.30  ...  Supermarket Type1          3735.1380\n",
              "1           DRC01         5.92  ...  Supermarket Type2           443.4228\n",
              "2           FDN15        17.50  ...  Supermarket Type1          2097.2700\n",
              "3           FDX07        19.20  ...      Grocery Store           732.3800\n",
              "4           NCD19         8.93  ...  Supermarket Type1           994.7052\n",
              "\n",
              "[5 rows x 12 columns]"
            ]
          },
          "metadata": {},
          "execution_count": 83
        }
      ]
    },
    {
      "cell_type": "code",
      "metadata": {
        "id": "kaVbLsfo4ljA",
        "colab": {
          "base_uri": "https://localhost:8080/"
        },
        "outputId": "6ae91e86-9e2b-4b8e-dff5-ec735496a918"
      },
      "source": [
        "#Part II \n",
        "#1.)How many rows and columns?\n",
        "# Answer: 12 columns, 8523 rows\n",
        "raw_sales_data.shape"
      ],
      "execution_count": 84,
      "outputs": [
        {
          "output_type": "execute_result",
          "data": {
            "text/plain": [
              "(8523, 12)"
            ]
          },
          "metadata": {},
          "execution_count": 84
        }
      ]
    },
    {
      "cell_type": "code",
      "metadata": {
        "colab": {
          "base_uri": "https://localhost:8080/"
        },
        "id": "tpy4RCD6joLv",
        "outputId": "e343821b-7284-4d90-fc6b-27e32ef08a0e"
      },
      "source": [
        "#2.)What are the datatypes of each variable?\n",
        "# Answer: object, float64, int64\n",
        "raw_sales_data.info()"
      ],
      "execution_count": 85,
      "outputs": [
        {
          "output_type": "stream",
          "name": "stdout",
          "text": [
            "<class 'pandas.core.frame.DataFrame'>\n",
            "RangeIndex: 8523 entries, 0 to 8522\n",
            "Data columns (total 12 columns):\n",
            " #   Column                     Non-Null Count  Dtype  \n",
            "---  ------                     --------------  -----  \n",
            " 0   Item_Identifier            8523 non-null   object \n",
            " 1   Item_Weight                7060 non-null   float64\n",
            " 2   Item_Fat_Content           8523 non-null   object \n",
            " 3   Item_Visibility            8523 non-null   float64\n",
            " 4   Item_Type                  8523 non-null   object \n",
            " 5   Item_MRP                   8523 non-null   float64\n",
            " 6   Outlet_Identifier          8523 non-null   object \n",
            " 7   Outlet_Establishment_Year  8523 non-null   int64  \n",
            " 8   Outlet_Size                6113 non-null   object \n",
            " 9   Outlet_Location_Type       8523 non-null   object \n",
            " 10  Outlet_Type                8523 non-null   object \n",
            " 11  Item_Outlet_Sales          8523 non-null   float64\n",
            "dtypes: float64(4), int64(1), object(7)\n",
            "memory usage: 799.2+ KB\n"
          ]
        }
      ]
    },
    {
      "cell_type": "code",
      "metadata": {
        "id": "1PKVmrbM4p3X",
        "colab": {
          "base_uri": "https://localhost:8080/"
        },
        "outputId": "2af684fd-e990-43c7-a8bb-e5e45e41151e"
      },
      "source": [
        "#3.)Are there duplicates? If so, drop any duplicates.\n",
        "# Answer: There were seemingly no duplicates as the row count didnt change.\n",
        "raw_sales_data = raw_sales_data.drop_duplicates()\n",
        "print(raw_sales_data)"
      ],
      "execution_count": 86,
      "outputs": [
        {
          "output_type": "stream",
          "name": "stdout",
          "text": [
            "     Item_Identifier  Item_Weight  ...        Outlet_Type  Item_Outlet_Sales\n",
            "0              FDA15        9.300  ...  Supermarket Type1          3735.1380\n",
            "1              DRC01        5.920  ...  Supermarket Type2           443.4228\n",
            "2              FDN15       17.500  ...  Supermarket Type1          2097.2700\n",
            "3              FDX07       19.200  ...      Grocery Store           732.3800\n",
            "4              NCD19        8.930  ...  Supermarket Type1           994.7052\n",
            "...              ...          ...  ...                ...                ...\n",
            "8518           FDF22        6.865  ...  Supermarket Type1          2778.3834\n",
            "8519           FDS36        8.380  ...  Supermarket Type1           549.2850\n",
            "8520           NCJ29       10.600  ...  Supermarket Type1          1193.1136\n",
            "8521           FDN46        7.210  ...  Supermarket Type2          1845.5976\n",
            "8522           DRG01       14.800  ...  Supermarket Type1           765.6700\n",
            "\n",
            "[8523 rows x 12 columns]\n"
          ]
        }
      ]
    },
    {
      "cell_type": "code",
      "metadata": {
        "id": "xk3S_nGZ5FfJ",
        "colab": {
          "base_uri": "https://localhost:8080/"
        },
        "outputId": "830280dc-f7a4-46b8-8dcf-d6e542a7a974"
      },
      "source": [
        "#4.) Identify missing values.\n",
        "#Outlet_Size and Item_Weight are missing values as the non-null value for both \n",
        "# were below 8523 compared to the other values.\n",
        "average_weight = raw_sales_data['Item_Weight'].mean()\n",
        "raw_sales_data['Item_Weight'] = raw_sales_data['Item_Weight'].fillna(average_weight)\n",
        "\n",
        "#5.) Decide on how to address the missing values and do it! (This requires your judgement, so explain your choice).\n",
        "# Average weight to fill in the missing data wont skew the aggregate item weight low or high\n",
        "raw_sales_data['Outlet_Size'] = raw_sales_data['Outlet_Size'].fillna('Medium')\n",
        "# Medium is a safe bet to assume as its between High and Low\n",
        "print(raw_sales_data)\n",
        "\n",
        "#6.) Confirm that there are no missing values after addressing them.\n",
        "#Answer: The number of non-nulls is now consistent for each column\n",
        "raw_sales_data.isna().sum()"
      ],
      "execution_count": 87,
      "outputs": [
        {
          "output_type": "stream",
          "name": "stdout",
          "text": [
            "     Item_Identifier  Item_Weight  ...        Outlet_Type  Item_Outlet_Sales\n",
            "0              FDA15        9.300  ...  Supermarket Type1          3735.1380\n",
            "1              DRC01        5.920  ...  Supermarket Type2           443.4228\n",
            "2              FDN15       17.500  ...  Supermarket Type1          2097.2700\n",
            "3              FDX07       19.200  ...      Grocery Store           732.3800\n",
            "4              NCD19        8.930  ...  Supermarket Type1           994.7052\n",
            "...              ...          ...  ...                ...                ...\n",
            "8518           FDF22        6.865  ...  Supermarket Type1          2778.3834\n",
            "8519           FDS36        8.380  ...  Supermarket Type1           549.2850\n",
            "8520           NCJ29       10.600  ...  Supermarket Type1          1193.1136\n",
            "8521           FDN46        7.210  ...  Supermarket Type2          1845.5976\n",
            "8522           DRG01       14.800  ...  Supermarket Type1           765.6700\n",
            "\n",
            "[8523 rows x 12 columns]\n"
          ]
        },
        {
          "output_type": "execute_result",
          "data": {
            "text/plain": [
              "Item_Identifier              0\n",
              "Item_Weight                  0\n",
              "Item_Fat_Content             0\n",
              "Item_Visibility              0\n",
              "Item_Type                    0\n",
              "Item_MRP                     0\n",
              "Outlet_Identifier            0\n",
              "Outlet_Establishment_Year    0\n",
              "Outlet_Size                  0\n",
              "Outlet_Location_Type         0\n",
              "Outlet_Type                  0\n",
              "Item_Outlet_Sales            0\n",
              "dtype: int64"
            ]
          },
          "metadata": {},
          "execution_count": 87
        }
      ]
    },
    {
      "cell_type": "code",
      "metadata": {
        "id": "RU4vUH0X7ff8",
        "colab": {
          "base_uri": "https://localhost:8080/"
        },
        "outputId": "ee30cdec-49fc-4dad-972a-81874cdf4248"
      },
      "source": [
        "#.7) Find and fix any inconsistent categories of data (example: fix cat, Cat, and cats so that they are consistent) \n",
        "raw_sales_data['Item_Fat_Content'].value_counts()"
      ],
      "execution_count": 102,
      "outputs": [
        {
          "output_type": "execute_result",
          "data": {
            "text/plain": [
              "Low Fat    5517\n",
              "Regular    3006\n",
              "Name: Item_Fat_Content, dtype: int64"
            ]
          },
          "metadata": {},
          "execution_count": 102
        }
      ]
    },
    {
      "cell_type": "code",
      "metadata": {
        "id": "uMONO0i_rY-i"
      },
      "source": [
        "#I was able to rename the redundant values (LF, low fat, reg) and put them under a uniform category\n",
        "raw_sales_data = raw_sales_data.replace({'LF':'Low Fat','low fat' : 'Low Fat','reg':'Regular'})"
      ],
      "execution_count": 101,
      "outputs": []
    },
    {
      "cell_type": "code",
      "metadata": {
        "id": "aGjtk2PF7oeh",
        "colab": {
          "base_uri": "https://localhost:8080/"
        },
        "outputId": "d226fd24-270a-4029-ddf5-3bae5898a42d"
      },
      "source": [
        "#8.) For any numerical columns, obtain the summary statistics of each (min, max, mean)\n",
        "\n",
        "print('Item_Weight Stats:')\n",
        "print('Mean', raw_sales_data['Item_Weight'].mean())\n",
        "print('Max', raw_sales_data['Item_Weight'].max())\n",
        "print('Min', raw_sales_data['Item_Weight'].min())\n",
        "\n",
        "print('Item_Visibility Stats:')\n",
        "print('Mean',raw_sales_data['Item_Visibility'].mean())\n",
        "print('Max', raw_sales_data['Item_Visibility'].max())\n",
        "print('Min', raw_sales_data['Item_Visibility'].min())\n",
        "\n",
        "print('Item_MRP Stats:')\n",
        "print('Mean',raw_sales_data['Item_MRP'].mean())\n",
        "print('Max', raw_sales_data['Item_MRP'].max())\n",
        "print('Min', raw_sales_data['Item_MRP'].min())\n",
        "\n",
        "print('Outlet_Establishment_Year Stats:')\n",
        "print('Mean',raw_sales_data['Outlet_Establishment_Year'].mean())\n",
        "print('Max', raw_sales_data['Outlet_Establishment_Year'].max())\n",
        "print('Min', raw_sales_data['Outlet_Establishment_Year'].min())\n",
        "\n",
        "print('Item_Outlet_Sales Stats:')\n",
        "print('Mean',raw_sales_data['Item_Outlet_Sales'].mean())\n",
        "print('Max', raw_sales_data['Item_Outlet_Sales'].max())\n",
        "print('Min', raw_sales_data['Item_Outlet_Sales'].min())"
      ],
      "execution_count": 90,
      "outputs": [
        {
          "output_type": "stream",
          "name": "stdout",
          "text": [
            "Item_Weight Stats:\n",
            "Mean 12.857645184136409\n",
            "Max 21.35\n",
            "Min 4.555\n",
            "Item_Visibility Stats:\n",
            "Mean 0.06613202877895127\n",
            "Max 0.328390948\n",
            "Min 0.0\n",
            "Item_MRP Stats:\n",
            "Mean 140.9927819781768\n",
            "Max 266.8884\n",
            "Min 31.29\n",
            "Outlet_Establishment_Year Stats:\n",
            "Mean 1997.8318667135984\n",
            "Max 2009\n",
            "Min 1985\n",
            "Item_Outlet_Sales Stats:\n",
            "Mean 2181.2889135750365\n",
            "Max 13086.9648\n",
            "Min 33.29\n"
          ]
        }
      ]
    },
    {
      "cell_type": "code",
      "metadata": {
        "id": "BloX_gmSlcKm",
        "colab": {
          "base_uri": "https://localhost:8080/",
          "height": 300
        },
        "outputId": "b96a678e-1972-44b0-8467-0b88fb49f6b5"
      },
      "source": [
        "raw_sales_data.describe()"
      ],
      "execution_count": 91,
      "outputs": [
        {
          "output_type": "execute_result",
          "data": {
            "text/html": [
              "<div>\n",
              "<style scoped>\n",
              "    .dataframe tbody tr th:only-of-type {\n",
              "        vertical-align: middle;\n",
              "    }\n",
              "\n",
              "    .dataframe tbody tr th {\n",
              "        vertical-align: top;\n",
              "    }\n",
              "\n",
              "    .dataframe thead th {\n",
              "        text-align: right;\n",
              "    }\n",
              "</style>\n",
              "<table border=\"1\" class=\"dataframe\">\n",
              "  <thead>\n",
              "    <tr style=\"text-align: right;\">\n",
              "      <th></th>\n",
              "      <th>Item_Weight</th>\n",
              "      <th>Item_Visibility</th>\n",
              "      <th>Item_MRP</th>\n",
              "      <th>Outlet_Establishment_Year</th>\n",
              "      <th>Item_Outlet_Sales</th>\n",
              "    </tr>\n",
              "  </thead>\n",
              "  <tbody>\n",
              "    <tr>\n",
              "      <th>count</th>\n",
              "      <td>8523.000000</td>\n",
              "      <td>8523.000000</td>\n",
              "      <td>8523.000000</td>\n",
              "      <td>8523.000000</td>\n",
              "      <td>8523.000000</td>\n",
              "    </tr>\n",
              "    <tr>\n",
              "      <th>mean</th>\n",
              "      <td>12.857645</td>\n",
              "      <td>0.066132</td>\n",
              "      <td>140.992782</td>\n",
              "      <td>1997.831867</td>\n",
              "      <td>2181.288914</td>\n",
              "    </tr>\n",
              "    <tr>\n",
              "      <th>std</th>\n",
              "      <td>4.226124</td>\n",
              "      <td>0.051598</td>\n",
              "      <td>62.275067</td>\n",
              "      <td>8.371760</td>\n",
              "      <td>1706.499616</td>\n",
              "    </tr>\n",
              "    <tr>\n",
              "      <th>min</th>\n",
              "      <td>4.555000</td>\n",
              "      <td>0.000000</td>\n",
              "      <td>31.290000</td>\n",
              "      <td>1985.000000</td>\n",
              "      <td>33.290000</td>\n",
              "    </tr>\n",
              "    <tr>\n",
              "      <th>25%</th>\n",
              "      <td>9.310000</td>\n",
              "      <td>0.026989</td>\n",
              "      <td>93.826500</td>\n",
              "      <td>1987.000000</td>\n",
              "      <td>834.247400</td>\n",
              "    </tr>\n",
              "    <tr>\n",
              "      <th>50%</th>\n",
              "      <td>12.857645</td>\n",
              "      <td>0.053931</td>\n",
              "      <td>143.012800</td>\n",
              "      <td>1999.000000</td>\n",
              "      <td>1794.331000</td>\n",
              "    </tr>\n",
              "    <tr>\n",
              "      <th>75%</th>\n",
              "      <td>16.000000</td>\n",
              "      <td>0.094585</td>\n",
              "      <td>185.643700</td>\n",
              "      <td>2004.000000</td>\n",
              "      <td>3101.296400</td>\n",
              "    </tr>\n",
              "    <tr>\n",
              "      <th>max</th>\n",
              "      <td>21.350000</td>\n",
              "      <td>0.328391</td>\n",
              "      <td>266.888400</td>\n",
              "      <td>2009.000000</td>\n",
              "      <td>13086.964800</td>\n",
              "    </tr>\n",
              "  </tbody>\n",
              "</table>\n",
              "</div>"
            ],
            "text/plain": [
              "       Item_Weight  ...  Item_Outlet_Sales\n",
              "count  8523.000000  ...        8523.000000\n",
              "mean     12.857645  ...        2181.288914\n",
              "std       4.226124  ...        1706.499616\n",
              "min       4.555000  ...          33.290000\n",
              "25%       9.310000  ...         834.247400\n",
              "50%      12.857645  ...        1794.331000\n",
              "75%      16.000000  ...        3101.296400\n",
              "max      21.350000  ...       13086.964800\n",
              "\n",
              "[8 rows x 5 columns]"
            ]
          },
          "metadata": {},
          "execution_count": 91
        }
      ]
    },
    {
      "cell_type": "code",
      "metadata": {
        "id": "kyvWc9mR7dkx",
        "colab": {
          "base_uri": "https://localhost:8080/",
          "height": 265
        },
        "outputId": "1b37e06d-2fa2-4560-a589-5bb90da54438"
      },
      "source": [
        "raw_sales_data['Item_Outlet_Sales'].hist();"
      ],
      "execution_count": 92,
      "outputs": [
        {
          "output_type": "display_data",
          "data": {
            "image/png": "[encoded data removed]",
            "text/plain": [
              "<Figure size 432x288 with 1 Axes>"
            ]
          },
          "metadata": {
            "needs_background": "light"
          }
        }
      ]
    },
    {
      "cell_type": "code",
      "metadata": {
        "colab": {
          "base_uri": "https://localhost:8080/",
          "height": 265
        },
        "id": "4C_h6oTx2yI9",
        "outputId": "a57674de-22f5-4ae0-c108-c83b93431537"
      },
      "source": [
        "fig, axes = plt.subplots(nrows = 1, ncols = 1)\n",
        "axes.boxplot([raw_sales_data['Item_Weight']], notch = True, labels=['Weight']);"
      ],
      "execution_count": 93,
      "outputs": [
        {
          "output_type": "display_data",
          "data": {
            "image/png": "[encoded data removed]",
            "text/plain": [
              "<Figure size 432x288 with 1 Axes>"
            ]
          },
          "metadata": {
            "needs_background": "light"
          }
        }
      ]
    },
    {
      "cell_type": "code",
      "metadata": {
        "colab": {
          "base_uri": "https://localhost:8080/",
          "height": 392
        },
        "id": "mI9lQQvJ3awk",
        "outputId": "e42c0136-b989-4825-fd1f-e6fa46549d57"
      },
      "source": [
        "corr = raw_sales_data.corr()\n",
        "sns.heatmap(corr,cmap='Blues');"
      ],
      "execution_count": 94,
      "outputs": [
        {
          "output_type": "display_data",
          "data": {
            "image/png": "[encoded data removed]",
            "text/plain": [
              "<Figure size 432x288 with 2 Axes>"
            ]
          },
          "metadata": {
            "needs_background": "light"
          }
        }
      ]
    },
    {
      "cell_type": "code",
      "metadata": {
        "colab": {
          "base_uri": "https://localhost:8080/"
        },
        "id": "sVAfwFQf0Dma",
        "outputId": "0c238421-be18-4947-9d44-0fb3f035dbb4"
      },
      "source": [
        "LowFatFood_Filter = raw_sales_data['Item_Fat_Content'] == 'Low Fat'\n",
        "RegularFat_Filter = raw_sales_data['Item_Fat_Content'] == 'Regular'\n",
        "\n",
        "print(LowFatFood_Filter)\n"
      ],
      "execution_count": 103,
      "outputs": [
        {
          "output_type": "stream",
          "name": "stdout",
          "text": [
            "0        True\n",
            "1       False\n",
            "2        True\n",
            "3       False\n",
            "4        True\n",
            "        ...  \n",
            "8518     True\n",
            "8519    False\n",
            "8520     True\n",
            "8521    False\n",
            "8522     True\n",
            "Name: Item_Fat_Content, Length: 8523, dtype: bool\n"
          ]
        }
      ]
    },
    {
      "cell_type": "code",
      "metadata": {
        "colab": {
          "base_uri": "https://localhost:8080/"
        },
        "id": "ruZYnIjUCAkJ",
        "outputId": "355b283f-e5db-47f1-8408-3f40f7667d4b"
      },
      "source": [
        "low_fat_food_dataframe = raw_sales_data.loc[LowFatFood_Filter]\n",
        "print(low_fat_food_dataframe)"
      ],
      "execution_count": 104,
      "outputs": [
        {
          "output_type": "stream",
          "name": "stdout",
          "text": [
            "     Item_Identifier  Item_Weight  ...        Outlet_Type  Item_Outlet_Sales\n",
            "0              FDA15     9.300000  ...  Supermarket Type1          3735.1380\n",
            "2              FDN15    17.500000  ...  Supermarket Type1          2097.2700\n",
            "4              NCD19     8.930000  ...  Supermarket Type1           994.7052\n",
            "7              FDP10    12.857645  ...  Supermarket Type3          4022.7636\n",
            "10             FDY07    11.800000  ...  Supermarket Type1          1516.0266\n",
            "...              ...          ...  ...                ...                ...\n",
            "8515           FDH24    20.700000  ...  Supermarket Type2          1571.2880\n",
            "8516           NCJ19    18.600000  ...  Supermarket Type2           858.8820\n",
            "8518           FDF22     6.865000  ...  Supermarket Type1          2778.3834\n",
            "8520           NCJ29    10.600000  ...  Supermarket Type1          1193.1136\n",
            "8522           DRG01    14.800000  ...  Supermarket Type1           765.6700\n",
            "\n",
            "[5517 rows x 12 columns]\n"
          ]
        }
      ]
    },
    {
      "cell_type": "code",
      "metadata": {
        "colab": {
          "base_uri": "https://localhost:8080/"
        },
        "id": "aPWnVzw7CmwO",
        "outputId": "def8e2ec-9a97-418a-a8ba-3103a2efd0cd"
      },
      "source": [
        "low_fat_food_index = low_fat_food_dataframe.index\n",
        "print(low_fat_food_index)"
      ],
      "execution_count": 106,
      "outputs": [
        {
          "output_type": "stream",
          "name": "stdout",
          "text": [
            "Int64Index([   0,    2,    4,    7,   10,   14,   16,   18,   19,   22,\n",
            "            ...\n",
            "            8504, 8506, 8509, 8511, 8512, 8515, 8516, 8518, 8520, 8522],\n",
            "           dtype='int64', length=5517)\n"
          ]
        }
      ]
    },
    {
      "cell_type": "code",
      "metadata": {
        "colab": {
          "base_uri": "https://localhost:8080/"
        },
        "id": "s9JPyg8nC7pY",
        "outputId": "b47aa04d-0032-4b39-f259-18f5cfe344ce"
      },
      "source": [
        "low_fat_food_count = len(low_fat_food_index)\n",
        "print(low_fat_food_count)"
      ],
      "execution_count": 107,
      "outputs": [
        {
          "output_type": "stream",
          "name": "stdout",
          "text": [
            "5517\n"
          ]
        }
      ]
    },
    {
      "cell_type": "code",
      "metadata": {
        "colab": {
          "base_uri": "https://localhost:8080/"
        },
        "id": "9LLzPGfD2gSE",
        "outputId": "cd095f06-0104-4834-fb6f-7c89d4a91716"
      },
      "source": [
        "LowFat_Count = len(raw_sales_data.loc[LowFatFood_Filter].index)\n",
        "\n",
        "LowFat_Count\n"
      ],
      "execution_count": 108,
      "outputs": [
        {
          "output_type": "execute_result",
          "data": {
            "text/plain": [
              "5517"
            ]
          },
          "metadata": {},
          "execution_count": 108
        }
      ]
    },
    {
      "cell_type": "code",
      "metadata": {
        "colab": {
          "base_uri": "https://localhost:8080/"
        },
        "id": "vgp6AciQ4CzD",
        "outputId": "5161fa8c-523c-4aa1-8b87-49529f505b15"
      },
      "source": [
        "RegularFood_Count = len(raw_sales_data.loc[RegularFat_Filter].index)\n",
        "RegularFood_Count"
      ],
      "execution_count": 109,
      "outputs": [
        {
          "output_type": "execute_result",
          "data": {
            "text/plain": [
              "3006"
            ]
          },
          "metadata": {},
          "execution_count": 109
        }
      ]
    },
    {
      "cell_type": "code",
      "metadata": {
        "colab": {
          "base_uri": "https://localhost:8080/",
          "height": 305
        },
        "id": "zRKzoqUg9zzh",
        "outputId": "b725419d-c7f9-47d1-d68f-706253b08b62"
      },
      "source": [
        "labels = ['Low Fat Foods','Regular Foods']\n",
        "plt.bar(labels,[LowFat_Count,RegularFood_Count],color=['g','r']);\n",
        "plt.title('Low Fat and Regular Food Comparison',fontsize=20);\n",
        "plt.xlabel('Food Type',fontsize=15);\n",
        "plt.ylabel('Food Count',fontsize=15);\n",
        "#The graph below illustrates the diversity of foods given their fat content. We can communicate to the interested party that their stock is more appealing because there are more low fat foods.\n",
        "\n"
      ],
      "execution_count": 120,
      "outputs": [
        {
          "output_type": "display_data",
          "data": {
            "image/png": "[encoded data removed]",
            "text/plain": [
              "<Figure size 432x288 with 1 Axes>"
            ]
          },
          "metadata": {
            "needs_background": "light"
          }
        }
      ]
    },
    {
      "cell_type": "code",
      "metadata": {
        "id": "Xxc234K2FQDo"
      },
      "source": [
        "FruitVeg_Filter = raw_sales_data ['Item_Type'] == 'Fruits and Vegetables'\n",
        "Meat_Filter = raw_sales_data ['Item_Type'] == 'Meat'"
      ],
      "execution_count": 137,
      "outputs": []
    },
    {
      "cell_type": "code",
      "metadata": {
        "id": "GX0rEDYzJ7jq"
      },
      "source": [
        "FruitVeg_Dataframe = raw_sales_data.loc[FruitVeg_Filter]\n",
        "Meat_Dataframe = raw_sales_data.loc[Meat_Filter]"
      ],
      "execution_count": 138,
      "outputs": []
    },
    {
      "cell_type": "code",
      "metadata": {
        "colab": {
          "base_uri": "https://localhost:8080/"
        },
        "id": "GtvPtTAtKbwO",
        "outputId": "ef982a69-3cc5-4c06-c174-66fdde97c562"
      },
      "source": [
        "FruitVeg_Count = len(raw_sales_data.loc[FruitVeg_Filter].index)\n",
        "print(FruitVeg_Count)\n",
        "Meat_Count = len(raw_sales_data.loc[Meat_Filter].index)\n",
        "print(Meat_Count)"
      ],
      "execution_count": 139,
      "outputs": [
        {
          "output_type": "stream",
          "name": "stdout",
          "text": [
            "1232\n",
            "425\n"
          ]
        }
      ]
    },
    {
      "cell_type": "code",
      "metadata": {
        "colab": {
          "base_uri": "https://localhost:8080/",
          "height": 322
        },
        "id": "XllkDhA-K8br",
        "outputId": "54e403c8-a19f-4b58-a602-a3edad630068"
      },
      "source": [
        "labels = ['Meat','Fruit and Vegetables']\n",
        "plt.bar(labels, [FruitVeg_Count,Meat_Count],color=['b','orange']);\n",
        "plt.title('Canivore and Vegetarian Market Reach',fontsize=20)\n",
        "plt.xlabel('Food Type',fontsize=15)\n",
        "plt.ylabel('Food Count', fontsize=15)"
      ],
      "execution_count": 154,
      "outputs": [
        {
          "output_type": "execute_result",
          "data": {
            "text/plain": [
              "Text(0, 0.5, 'Food Count')"
            ]
          },
          "metadata": {},
          "execution_count": 154
        },
        {
          "output_type": "display_data",
          "data": {
            "image/png": "[encoded data removed]",
            "text/plain": [
              "<Figure size 432x288 with 1 Axes>"
            ]
          },
          "metadata": {
            "needs_background": "light"
          }
        }
      ]
    },
    {
      "cell_type": "code",
      "metadata": {
        "id": "prfn1Sp4M6-U"
      },
      "source": [
        "#The graph above illuminates to the interested party the degree of which our product is composed of products that specifically appeal to those who consume meat compared to that which appeals to those who choose to eat strictly fruits and vegetables."
      ],
      "execution_count": null,
      "outputs": []
    }
  ]
}