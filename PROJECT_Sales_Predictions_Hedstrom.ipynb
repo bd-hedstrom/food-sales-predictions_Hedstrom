{
  "nbformat": 4,
  "nbformat_minor": 0,
  "metadata": {
    "colab": {
      "name": "PROJECT Sales-Predictions_Hedstrom.ipynb",
      "provenance": [],
      "mount_file_id": "1tO0eqK0SD00C6BGy1bKZ5oYUwxX2ZHNY",
      "authorship_tag": "ABX9TyOFy5Cg7YBqPOSgrw+XFDL0",
      "include_colab_link": true
    },
    "kernelspec": {
      "name": "python3",
      "display_name": "Python 3"
    },
    "language_info": {
      "name": "python"
    }
  },
  "cells": [
    {
      "cell_type": "markdown",
      "metadata": {
        "id": "view-in-github",
        "colab_type": "text"
      },
      "source": [
        "<a href=\"https://colab.research.google.com/github/bd-hedstrom/food-sales-predictions_Hedstrom/blob/main/PROJECT_Sales_Predictions_Hedstrom.ipynb\" target=\"_parent\"><img src=\"https://colab.research.google.com/assets/colab-badge.svg\" alt=\"Open In Colab\"/></a>"
      ]
    },
    {
      "cell_type": "code",
      "metadata": {
        "id": "B9JK6u4NeNn7"
      },
      "source": [
        "import pandas as pd\n",
        "import numpy as np\n",
        "import matplotlib.pyplot as plt\n",
        "import seaborn as sns\n",
        "from sklearn.model_selection import train_test_split\n",
        "from sklearn.tree import DecisionTreeRegressor\n",
        "\n",
        "\n",
        "from sklearn.tree import DecisionTreeClassifier\n",
        "from sklearn.ensemble import BaggingClassifier\n",
        "from sklearn.ensemble import RandomForestRegressor\n",
        "from sklearn.ensemble import BaggingRegressor"
      ],
      "execution_count": 205,
      "outputs": []
    },
    {
      "cell_type": "code",
      "metadata": {
        "colab": {
          "base_uri": "https://localhost:8080/",
          "height": 206
        },
        "id": "YuacKkQnebnJ",
        "outputId": "1444a939-6023-492f-ce97-499e82814f27"
      },
      "source": [
        "filename = '/content/sales_predictions.csv'\n",
        "raw_sales_data = pd.read_csv(filename)\n",
        "raw_sales_data.head()"
      ],
      "execution_count": 206,
      "outputs": [
        {
          "output_type": "execute_result",
          "data": {
            "text/html": [
              "<div>\n",
              "<style scoped>\n",
              "    .dataframe tbody tr th:only-of-type {\n",
              "        vertical-align: middle;\n",
              "    }\n",
              "\n",
              "    .dataframe tbody tr th {\n",
              "        vertical-align: top;\n",
              "    }\n",
              "\n",
              "    .dataframe thead th {\n",
              "        text-align: right;\n",
              "    }\n",
              "</style>\n",
              "<table border=\"1\" class=\"dataframe\">\n",
              "  <thead>\n",
              "    <tr style=\"text-align: right;\">\n",
              "      <th></th>\n",
              "      <th>Item_Identifier</th>\n",
              "      <th>Item_Weight</th>\n",
              "      <th>Item_Fat_Content</th>\n",
              "      <th>Item_Visibility</th>\n",
              "      <th>Item_Type</th>\n",
              "      <th>Item_MRP</th>\n",
              "      <th>Outlet_Identifier</th>\n",
              "      <th>Outlet_Establishment_Year</th>\n",
              "      <th>Outlet_Size</th>\n",
              "      <th>Outlet_Location_Type</th>\n",
              "      <th>Outlet_Type</th>\n",
              "      <th>Item_Outlet_Sales</th>\n",
              "    </tr>\n",
              "  </thead>\n",
              "  <tbody>\n",
              "    <tr>\n",
              "      <th>0</th>\n",
              "      <td>FDA15</td>\n",
              "      <td>9.30</td>\n",
              "      <td>Low Fat</td>\n",
              "      <td>0.016047</td>\n",
              "      <td>Dairy</td>\n",
              "      <td>249.8092</td>\n",
              "      <td>OUT049</td>\n",
              "      <td>1999</td>\n",
              "      <td>Medium</td>\n",
              "      <td>Tier 1</td>\n",
              "      <td>Supermarket Type1</td>\n",
              "      <td>3735.1380</td>\n",
              "    </tr>\n",
              "    <tr>\n",
              "      <th>1</th>\n",
              "      <td>DRC01</td>\n",
              "      <td>5.92</td>\n",
              "      <td>Regular</td>\n",
              "      <td>0.019278</td>\n",
              "      <td>Soft Drinks</td>\n",
              "      <td>48.2692</td>\n",
              "      <td>OUT018</td>\n",
              "      <td>2009</td>\n",
              "      <td>Medium</td>\n",
              "      <td>Tier 3</td>\n",
              "      <td>Supermarket Type2</td>\n",
              "      <td>443.4228</td>\n",
              "    </tr>\n",
              "    <tr>\n",
              "      <th>2</th>\n",
              "      <td>FDN15</td>\n",
              "      <td>17.50</td>\n",
              "      <td>Low Fat</td>\n",
              "      <td>0.016760</td>\n",
              "      <td>Meat</td>\n",
              "      <td>141.6180</td>\n",
              "      <td>OUT049</td>\n",
              "      <td>1999</td>\n",
              "      <td>Medium</td>\n",
              "      <td>Tier 1</td>\n",
              "      <td>Supermarket Type1</td>\n",
              "      <td>2097.2700</td>\n",
              "    </tr>\n",
              "    <tr>\n",
              "      <th>3</th>\n",
              "      <td>FDX07</td>\n",
              "      <td>19.20</td>\n",
              "      <td>Regular</td>\n",
              "      <td>0.000000</td>\n",
              "      <td>Fruits and Vegetables</td>\n",
              "      <td>182.0950</td>\n",
              "      <td>OUT010</td>\n",
              "      <td>1998</td>\n",
              "      <td>NaN</td>\n",
              "      <td>Tier 3</td>\n",
              "      <td>Grocery Store</td>\n",
              "      <td>732.3800</td>\n",
              "    </tr>\n",
              "    <tr>\n",
              "      <th>4</th>\n",
              "      <td>NCD19</td>\n",
              "      <td>8.93</td>\n",
              "      <td>Low Fat</td>\n",
              "      <td>0.000000</td>\n",
              "      <td>Household</td>\n",
              "      <td>53.8614</td>\n",
              "      <td>OUT013</td>\n",
              "      <td>1987</td>\n",
              "      <td>High</td>\n",
              "      <td>Tier 3</td>\n",
              "      <td>Supermarket Type1</td>\n",
              "      <td>994.7052</td>\n",
              "    </tr>\n",
              "  </tbody>\n",
              "</table>\n",
              "</div>"
            ],
            "text/plain": [
              "  Item_Identifier  Item_Weight  ...        Outlet_Type  Item_Outlet_Sales\n",
              "0           FDA15         9.30  ...  Supermarket Type1          3735.1380\n",
              "1           DRC01         5.92  ...  Supermarket Type2           443.4228\n",
              "2           FDN15        17.50  ...  Supermarket Type1          2097.2700\n",
              "3           FDX07        19.20  ...      Grocery Store           732.3800\n",
              "4           NCD19         8.93  ...  Supermarket Type1           994.7052\n",
              "\n",
              "[5 rows x 12 columns]"
            ]
          },
          "metadata": {},
          "execution_count": 206
        }
      ]
    },
    {
      "cell_type": "code",
      "metadata": {
        "id": "kaVbLsfo4ljA",
        "colab": {
          "base_uri": "https://localhost:8080/"
        },
        "outputId": "6d8a93aa-c58b-432f-950e-158b8db93f4c"
      },
      "source": [
        "#Part II \n",
        "#1.)How many rows and columns?\n",
        "# Answer: 12 columns, 8523 rows\n",
        "raw_sales_data.shape"
      ],
      "execution_count": 207,
      "outputs": [
        {
          "output_type": "execute_result",
          "data": {
            "text/plain": [
              "(8523, 12)"
            ]
          },
          "metadata": {},
          "execution_count": 207
        }
      ]
    },
    {
      "cell_type": "code",
      "metadata": {
        "colab": {
          "base_uri": "https://localhost:8080/"
        },
        "id": "tpy4RCD6joLv",
        "outputId": "439c5239-2318-4cdd-b413-53c5e454bf29"
      },
      "source": [
        "#2.)What are the datatypes of each variable?\n",
        "# Answer: object, float64, int64\n",
        "raw_sales_data.info()"
      ],
      "execution_count": 208,
      "outputs": [
        {
          "output_type": "stream",
          "name": "stdout",
          "text": [
            "<class 'pandas.core.frame.DataFrame'>\n",
            "RangeIndex: 8523 entries, 0 to 8522\n",
            "Data columns (total 12 columns):\n",
            " #   Column                     Non-Null Count  Dtype  \n",
            "---  ------                     --------------  -----  \n",
            " 0   Item_Identifier            8523 non-null   object \n",
            " 1   Item_Weight                7060 non-null   float64\n",
            " 2   Item_Fat_Content           8523 non-null   object \n",
            " 3   Item_Visibility            8523 non-null   float64\n",
            " 4   Item_Type                  8523 non-null   object \n",
            " 5   Item_MRP                   8523 non-null   float64\n",
            " 6   Outlet_Identifier          8523 non-null   object \n",
            " 7   Outlet_Establishment_Year  8523 non-null   int64  \n",
            " 8   Outlet_Size                6113 non-null   object \n",
            " 9   Outlet_Location_Type       8523 non-null   object \n",
            " 10  Outlet_Type                8523 non-null   object \n",
            " 11  Item_Outlet_Sales          8523 non-null   float64\n",
            "dtypes: float64(4), int64(1), object(7)\n",
            "memory usage: 799.2+ KB\n"
          ]
        }
      ]
    },
    {
      "cell_type": "code",
      "metadata": {
        "id": "1PKVmrbM4p3X",
        "colab": {
          "base_uri": "https://localhost:8080/"
        },
        "outputId": "5d3eff00-cf0e-4822-af3a-68c00b30be22"
      },
      "source": [
        "#3.)Are there duplicates? If so, drop any duplicates.\n",
        "# Answer: There were seemingly no duplicates as the row count didnt change.\n",
        "raw_sales_data = raw_sales_data.drop_duplicates()\n",
        "print(raw_sales_data)"
      ],
      "execution_count": 209,
      "outputs": [
        {
          "output_type": "stream",
          "name": "stdout",
          "text": [
            "     Item_Identifier  Item_Weight  ...        Outlet_Type  Item_Outlet_Sales\n",
            "0              FDA15        9.300  ...  Supermarket Type1          3735.1380\n",
            "1              DRC01        5.920  ...  Supermarket Type2           443.4228\n",
            "2              FDN15       17.500  ...  Supermarket Type1          2097.2700\n",
            "3              FDX07       19.200  ...      Grocery Store           732.3800\n",
            "4              NCD19        8.930  ...  Supermarket Type1           994.7052\n",
            "...              ...          ...  ...                ...                ...\n",
            "8518           FDF22        6.865  ...  Supermarket Type1          2778.3834\n",
            "8519           FDS36        8.380  ...  Supermarket Type1           549.2850\n",
            "8520           NCJ29       10.600  ...  Supermarket Type1          1193.1136\n",
            "8521           FDN46        7.210  ...  Supermarket Type2          1845.5976\n",
            "8522           DRG01       14.800  ...  Supermarket Type1           765.6700\n",
            "\n",
            "[8523 rows x 12 columns]\n"
          ]
        }
      ]
    },
    {
      "cell_type": "code",
      "metadata": {
        "id": "xk3S_nGZ5FfJ",
        "colab": {
          "base_uri": "https://localhost:8080/"
        },
        "outputId": "3e669216-7ac8-47bf-f867-a3e30e0c9cf0"
      },
      "source": [
        "#4.) Identify missing values.\n",
        "#Outlet_Size and Item_Weight are missing values as the non-null value for both \n",
        "# were below 8523 compared to the other values.\n",
        "average_weight = raw_sales_data['Item_Weight'].mean()\n",
        "\n",
        "\n",
        "#5.) Decide on how to address the missing values and do it! (This requires your \n",
        "#judgement, so explain your choice).\n",
        "# Medium is a safe bet to assume as its between High and Low\n",
        "# Average weight to fill in the missing data wont skew the aggregate item weight \n",
        "#low or high\n",
        "raw_sales_data['Outlet_Size'] = raw_sales_data['Outlet_Size'].fillna('Medium')\n",
        "raw_sales_data['Item_Weight'] = raw_sales_data['Item_Weight'].fillna(average_weight)\n",
        "\n",
        "print(raw_sales_data)\n",
        "\n",
        "#6.) Confirm that there are no missing values after addressing them.\n",
        "#Answer: The number of non-nulls is now consistent for each column\n",
        "raw_sales_data.isna().sum()"
      ],
      "execution_count": 210,
      "outputs": [
        {
          "output_type": "stream",
          "name": "stdout",
          "text": [
            "     Item_Identifier  Item_Weight  ...        Outlet_Type  Item_Outlet_Sales\n",
            "0              FDA15        9.300  ...  Supermarket Type1          3735.1380\n",
            "1              DRC01        5.920  ...  Supermarket Type2           443.4228\n",
            "2              FDN15       17.500  ...  Supermarket Type1          2097.2700\n",
            "3              FDX07       19.200  ...      Grocery Store           732.3800\n",
            "4              NCD19        8.930  ...  Supermarket Type1           994.7052\n",
            "...              ...          ...  ...                ...                ...\n",
            "8518           FDF22        6.865  ...  Supermarket Type1          2778.3834\n",
            "8519           FDS36        8.380  ...  Supermarket Type1           549.2850\n",
            "8520           NCJ29       10.600  ...  Supermarket Type1          1193.1136\n",
            "8521           FDN46        7.210  ...  Supermarket Type2          1845.5976\n",
            "8522           DRG01       14.800  ...  Supermarket Type1           765.6700\n",
            "\n",
            "[8523 rows x 12 columns]\n"
          ]
        },
        {
          "output_type": "execute_result",
          "data": {
            "text/plain": [
              "Item_Identifier              0\n",
              "Item_Weight                  0\n",
              "Item_Fat_Content             0\n",
              "Item_Visibility              0\n",
              "Item_Type                    0\n",
              "Item_MRP                     0\n",
              "Outlet_Identifier            0\n",
              "Outlet_Establishment_Year    0\n",
              "Outlet_Size                  0\n",
              "Outlet_Location_Type         0\n",
              "Outlet_Type                  0\n",
              "Item_Outlet_Sales            0\n",
              "dtype: int64"
            ]
          },
          "metadata": {},
          "execution_count": 210
        }
      ]
    },
    {
      "cell_type": "code",
      "metadata": {
        "id": "RU4vUH0X7ff8",
        "colab": {
          "base_uri": "https://localhost:8080/"
        },
        "outputId": "fe983665-8721-4ed9-cd7b-829d2af3697b"
      },
      "source": [
        "#.7) Find and fix any inconsistent categories of data (example: fix cat, Cat, and cats so that they are consistent) \n",
        "raw_sales_data['Item_Fat_Content'].value_counts()"
      ],
      "execution_count": 211,
      "outputs": [
        {
          "output_type": "execute_result",
          "data": {
            "text/plain": [
              "Low Fat    5089\n",
              "Regular    2889\n",
              "LF          316\n",
              "reg         117\n",
              "low fat     112\n",
              "Name: Item_Fat_Content, dtype: int64"
            ]
          },
          "metadata": {},
          "execution_count": 211
        }
      ]
    },
    {
      "cell_type": "code",
      "metadata": {
        "id": "uMONO0i_rY-i"
      },
      "source": [
        "#I was able to rename the redundant values (LF, low fat, reg) and put them under a uniform category\n",
        "raw_sales_data = raw_sales_data.replace({'LF':'Low Fat','low fat' : 'Low Fat','reg':'Regular'})"
      ],
      "execution_count": 212,
      "outputs": []
    },
    {
      "cell_type": "code",
      "metadata": {
        "id": "aGjtk2PF7oeh",
        "colab": {
          "base_uri": "https://localhost:8080/"
        },
        "outputId": "2b59e355-fc57-4dfc-f439-8ce25608eb74"
      },
      "source": [
        "#8.) For any numerical columns, obtain the summary statistics of each (min, max, mean)\n",
        "\n",
        "print('Item_Weight Stats:')\n",
        "print('Mean', raw_sales_data['Item_Weight'].mean())\n",
        "print('Max', raw_sales_data['Item_Weight'].max())\n",
        "print('Min', raw_sales_data['Item_Weight'].min())\n",
        "\n",
        "print('Item_Visibility Stats:')\n",
        "print('Mean',raw_sales_data['Item_Visibility'].mean())\n",
        "print('Max', raw_sales_data['Item_Visibility'].max())\n",
        "print('Min', raw_sales_data['Item_Visibility'].min())\n",
        "\n",
        "print('Item_MRP Stats:')\n",
        "print('Mean',raw_sales_data['Item_MRP'].mean())\n",
        "print('Max', raw_sales_data['Item_MRP'].max())\n",
        "print('Min', raw_sales_data['Item_MRP'].min())\n",
        "\n",
        "print('Outlet_Establishment_Year Stats:')\n",
        "print('Mean',raw_sales_data['Outlet_Establishment_Year'].mean())\n",
        "print('Max', raw_sales_data['Outlet_Establishment_Year'].max())\n",
        "print('Min', raw_sales_data['Outlet_Establishment_Year'].min())\n",
        "\n",
        "print('Item_Outlet_Sales Stats:')\n",
        "print('Mean',raw_sales_data['Item_Outlet_Sales'].mean())\n",
        "print('Max', raw_sales_data['Item_Outlet_Sales'].max())\n",
        "print('Min', raw_sales_data['Item_Outlet_Sales'].min())"
      ],
      "execution_count": 213,
      "outputs": [
        {
          "output_type": "stream",
          "name": "stdout",
          "text": [
            "Item_Weight Stats:\n",
            "Mean 12.857645184136409\n",
            "Max 21.35\n",
            "Min 4.555\n",
            "Item_Visibility Stats:\n",
            "Mean 0.06613202877895127\n",
            "Max 0.328390948\n",
            "Min 0.0\n",
            "Item_MRP Stats:\n",
            "Mean 140.9927819781768\n",
            "Max 266.8884\n",
            "Min 31.29\n",
            "Outlet_Establishment_Year Stats:\n",
            "Mean 1997.8318667135984\n",
            "Max 2009\n",
            "Min 1985\n",
            "Item_Outlet_Sales Stats:\n",
            "Mean 2181.2889135750365\n",
            "Max 13086.9648\n",
            "Min 33.29\n"
          ]
        }
      ]
    },
    {
      "cell_type": "code",
      "metadata": {
        "id": "BloX_gmSlcKm",
        "colab": {
          "base_uri": "https://localhost:8080/",
          "height": 300
        },
        "outputId": "f582ff3a-059b-4e1b-cdc7-babc9ccb76f9"
      },
      "source": [
        "raw_sales_data.describe()"
      ],
      "execution_count": 214,
      "outputs": [
        {
          "output_type": "execute_result",
          "data": {
            "text/html": [
              "<div>\n",
              "<style scoped>\n",
              "    .dataframe tbody tr th:only-of-type {\n",
              "        vertical-align: middle;\n",
              "    }\n",
              "\n",
              "    .dataframe tbody tr th {\n",
              "        vertical-align: top;\n",
              "    }\n",
              "\n",
              "    .dataframe thead th {\n",
              "        text-align: right;\n",
              "    }\n",
              "</style>\n",
              "<table border=\"1\" class=\"dataframe\">\n",
              "  <thead>\n",
              "    <tr style=\"text-align: right;\">\n",
              "      <th></th>\n",
              "      <th>Item_Weight</th>\n",
              "      <th>Item_Visibility</th>\n",
              "      <th>Item_MRP</th>\n",
              "      <th>Outlet_Establishment_Year</th>\n",
              "      <th>Item_Outlet_Sales</th>\n",
              "    </tr>\n",
              "  </thead>\n",
              "  <tbody>\n",
              "    <tr>\n",
              "      <th>count</th>\n",
              "      <td>8523.000000</td>\n",
              "      <td>8523.000000</td>\n",
              "      <td>8523.000000</td>\n",
              "      <td>8523.000000</td>\n",
              "      <td>8523.000000</td>\n",
              "    </tr>\n",
              "    <tr>\n",
              "      <th>mean</th>\n",
              "      <td>12.857645</td>\n",
              "      <td>0.066132</td>\n",
              "      <td>140.992782</td>\n",
              "      <td>1997.831867</td>\n",
              "      <td>2181.288914</td>\n",
              "    </tr>\n",
              "    <tr>\n",
              "      <th>std</th>\n",
              "      <td>4.226124</td>\n",
              "      <td>0.051598</td>\n",
              "      <td>62.275067</td>\n",
              "      <td>8.371760</td>\n",
              "      <td>1706.499616</td>\n",
              "    </tr>\n",
              "    <tr>\n",
              "      <th>min</th>\n",
              "      <td>4.555000</td>\n",
              "      <td>0.000000</td>\n",
              "      <td>31.290000</td>\n",
              "      <td>1985.000000</td>\n",
              "      <td>33.290000</td>\n",
              "    </tr>\n",
              "    <tr>\n",
              "      <th>25%</th>\n",
              "      <td>9.310000</td>\n",
              "      <td>0.026989</td>\n",
              "      <td>93.826500</td>\n",
              "      <td>1987.000000</td>\n",
              "      <td>834.247400</td>\n",
              "    </tr>\n",
              "    <tr>\n",
              "      <th>50%</th>\n",
              "      <td>12.857645</td>\n",
              "      <td>0.053931</td>\n",
              "      <td>143.012800</td>\n",
              "      <td>1999.000000</td>\n",
              "      <td>1794.331000</td>\n",
              "    </tr>\n",
              "    <tr>\n",
              "      <th>75%</th>\n",
              "      <td>16.000000</td>\n",
              "      <td>0.094585</td>\n",
              "      <td>185.643700</td>\n",
              "      <td>2004.000000</td>\n",
              "      <td>3101.296400</td>\n",
              "    </tr>\n",
              "    <tr>\n",
              "      <th>max</th>\n",
              "      <td>21.350000</td>\n",
              "      <td>0.328391</td>\n",
              "      <td>266.888400</td>\n",
              "      <td>2009.000000</td>\n",
              "      <td>13086.964800</td>\n",
              "    </tr>\n",
              "  </tbody>\n",
              "</table>\n",
              "</div>"
            ],
            "text/plain": [
              "       Item_Weight  ...  Item_Outlet_Sales\n",
              "count  8523.000000  ...        8523.000000\n",
              "mean     12.857645  ...        2181.288914\n",
              "std       4.226124  ...        1706.499616\n",
              "min       4.555000  ...          33.290000\n",
              "25%       9.310000  ...         834.247400\n",
              "50%      12.857645  ...        1794.331000\n",
              "75%      16.000000  ...        3101.296400\n",
              "max      21.350000  ...       13086.964800\n",
              "\n",
              "[8 rows x 5 columns]"
            ]
          },
          "metadata": {},
          "execution_count": 214
        }
      ]
    },
    {
      "cell_type": "code",
      "metadata": {
        "id": "kyvWc9mR7dkx",
        "colab": {
          "base_uri": "https://localhost:8080/",
          "height": 265
        },
        "outputId": "c96fedad-c22e-42c2-ecd9-470d317ab20e"
      },
      "source": [
        "raw_sales_data['Item_Outlet_Sales'].hist();"
      ],
      "execution_count": 215,
      "outputs": [
        {
          "output_type": "display_data",
          "data": {
            "image/png": "[encoded data removed]",
            "text/plain": [
              "<Figure size 432x288 with 1 Axes>"
            ]
          },
          "metadata": {
            "needs_background": "light"
          }
        }
      ]
    },
    {
      "cell_type": "code",
      "metadata": {
        "colab": {
          "base_uri": "https://localhost:8080/",
          "height": 265
        },
        "id": "4C_h6oTx2yI9",
        "outputId": "bb4b2042-17f7-4866-8456-1da207d1dbb5"
      },
      "source": [
        "fig, axes = plt.subplots(nrows = 1, ncols = 1)\n",
        "axes.boxplot([raw_sales_data['Item_Weight']], notch = True, labels=['Weight']);"
      ],
      "execution_count": 216,
      "outputs": [
        {
          "output_type": "display_data",
          "data": {
            "image/png": "[encoded data removed]",
            "text/plain": [
              "<Figure size 432x288 with 1 Axes>"
            ]
          },
          "metadata": {
            "needs_background": "light"
          }
        }
      ]
    },
    {
      "cell_type": "code",
      "metadata": {
        "colab": {
          "base_uri": "https://localhost:8080/",
          "height": 392
        },
        "id": "mI9lQQvJ3awk",
        "outputId": "78e11fb4-af41-46e1-bcd0-41a553c43f58"
      },
      "source": [
        "corr = raw_sales_data.corr()\n",
        "sns.heatmap(corr,cmap='Blues');"
      ],
      "execution_count": 217,
      "outputs": [
        {
          "output_type": "display_data",
          "data": {
            "image/png": "[encoded data removed]",
            "text/plain": [
              "<Figure size 432x288 with 2 Axes>"
            ]
          },
          "metadata": {
            "needs_background": "light"
          }
        }
      ]
    },
    {
      "cell_type": "code",
      "metadata": {
        "colab": {
          "base_uri": "https://localhost:8080/"
        },
        "id": "sVAfwFQf0Dma",
        "outputId": "05a633b6-5e48-4243-cac1-01186afa2e57"
      },
      "source": [
        "LowFatFood_Filter = raw_sales_data['Item_Fat_Content'] == 'Low Fat'\n",
        "RegularFat_Filter = raw_sales_data['Item_Fat_Content'] == 'Regular'\n",
        "\n",
        "print(LowFatFood_Filter)"
      ],
      "execution_count": 218,
      "outputs": [
        {
          "output_type": "stream",
          "name": "stdout",
          "text": [
            "0        True\n",
            "1       False\n",
            "2        True\n",
            "3       False\n",
            "4        True\n",
            "        ...  \n",
            "8518     True\n",
            "8519    False\n",
            "8520     True\n",
            "8521    False\n",
            "8522     True\n",
            "Name: Item_Fat_Content, Length: 8523, dtype: bool\n"
          ]
        }
      ]
    },
    {
      "cell_type": "code",
      "metadata": {
        "colab": {
          "base_uri": "https://localhost:8080/"
        },
        "id": "ruZYnIjUCAkJ",
        "outputId": "be0d1886-14b9-4aa4-9e6b-a83b9cb86729"
      },
      "source": [
        "low_fat_food_dataframe = raw_sales_data.loc[LowFatFood_Filter]\n",
        "print(low_fat_food_dataframe)"
      ],
      "execution_count": 219,
      "outputs": [
        {
          "output_type": "stream",
          "name": "stdout",
          "text": [
            "     Item_Identifier  Item_Weight  ...        Outlet_Type  Item_Outlet_Sales\n",
            "0              FDA15     9.300000  ...  Supermarket Type1          3735.1380\n",
            "2              FDN15    17.500000  ...  Supermarket Type1          2097.2700\n",
            "4              NCD19     8.930000  ...  Supermarket Type1           994.7052\n",
            "7              FDP10    12.857645  ...  Supermarket Type3          4022.7636\n",
            "10             FDY07    11.800000  ...  Supermarket Type1          1516.0266\n",
            "...              ...          ...  ...                ...                ...\n",
            "8515           FDH24    20.700000  ...  Supermarket Type2          1571.2880\n",
            "8516           NCJ19    18.600000  ...  Supermarket Type2           858.8820\n",
            "8518           FDF22     6.865000  ...  Supermarket Type1          2778.3834\n",
            "8520           NCJ29    10.600000  ...  Supermarket Type1          1193.1136\n",
            "8522           DRG01    14.800000  ...  Supermarket Type1           765.6700\n",
            "\n",
            "[5517 rows x 12 columns]\n"
          ]
        }
      ]
    },
    {
      "cell_type": "code",
      "metadata": {
        "colab": {
          "base_uri": "https://localhost:8080/"
        },
        "id": "aPWnVzw7CmwO",
        "outputId": "fb2c0da1-f127-44c9-8bea-5984e77fbc33"
      },
      "source": [
        "low_fat_food_index = low_fat_food_dataframe.index\n",
        "print(low_fat_food_index)"
      ],
      "execution_count": 220,
      "outputs": [
        {
          "output_type": "stream",
          "name": "stdout",
          "text": [
            "Int64Index([   0,    2,    4,    7,   10,   14,   16,   18,   19,   22,\n",
            "            ...\n",
            "            8504, 8506, 8509, 8511, 8512, 8515, 8516, 8518, 8520, 8522],\n",
            "           dtype='int64', length=5517)\n"
          ]
        }
      ]
    },
    {
      "cell_type": "code",
      "metadata": {
        "colab": {
          "base_uri": "https://localhost:8080/"
        },
        "id": "s9JPyg8nC7pY",
        "outputId": "8279b105-db2d-4a56-ef9f-ed47d83242d4"
      },
      "source": [
        "low_fat_food_count = len(low_fat_food_index)\n",
        "print(low_fat_food_count)"
      ],
      "execution_count": 221,
      "outputs": [
        {
          "output_type": "stream",
          "name": "stdout",
          "text": [
            "5517\n"
          ]
        }
      ]
    },
    {
      "cell_type": "code",
      "metadata": {
        "colab": {
          "base_uri": "https://localhost:8080/"
        },
        "id": "9LLzPGfD2gSE",
        "outputId": "53deb540-617c-49da-bd89-b57e625b8c53"
      },
      "source": [
        "LowFat_Count = len(raw_sales_data.loc[LowFatFood_Filter].index)\n",
        "LowFat_Count"
      ],
      "execution_count": 222,
      "outputs": [
        {
          "output_type": "execute_result",
          "data": {
            "text/plain": [
              "5517"
            ]
          },
          "metadata": {},
          "execution_count": 222
        }
      ]
    },
    {
      "cell_type": "code",
      "metadata": {
        "colab": {
          "base_uri": "https://localhost:8080/"
        },
        "id": "vgp6AciQ4CzD",
        "outputId": "beb3408d-6596-4ed8-df3e-2e0ee066f349"
      },
      "source": [
        "RegularFood_Count = len(raw_sales_data.loc[RegularFat_Filter].index)\n",
        "RegularFood_Count"
      ],
      "execution_count": 223,
      "outputs": [
        {
          "output_type": "execute_result",
          "data": {
            "text/plain": [
              "3006"
            ]
          },
          "metadata": {},
          "execution_count": 223
        }
      ]
    },
    {
      "cell_type": "code",
      "metadata": {
        "colab": {
          "base_uri": "https://localhost:8080/",
          "height": 305
        },
        "id": "zRKzoqUg9zzh",
        "outputId": "9b4ab565-7dba-4f15-8871-e0c9c8962442"
      },
      "source": [
        "labels = ['Low Fat Foods','Regular Foods']\n",
        "plt.bar(labels,[LowFat_Count,RegularFood_Count],color=['g','r']);\n",
        "plt.title('Low Fat and Regular Food Comparison',fontsize=20);\n",
        "plt.xlabel('Food Type',fontsize=15);\n",
        "plt.ylabel('Food Count',fontsize=15);\n",
        "#The graph below illustrates the diversity of foods given their fat content. We can communicate to the interested party that their stock is more appealing because there are more low fat foods.\n",
        "\n"
      ],
      "execution_count": 224,
      "outputs": [
        {
          "output_type": "display_data",
          "data": {
            "image/png": "[encoded data removed]",
            "text/plain": [
              "<Figure size 432x288 with 1 Axes>"
            ]
          },
          "metadata": {
            "needs_background": "light"
          }
        }
      ]
    },
    {
      "cell_type": "code",
      "metadata": {
        "id": "Xxc234K2FQDo"
      },
      "source": [
        "FruitVeg_Filter = raw_sales_data ['Item_Type'] == 'Fruits and Vegetables'\n",
        "Meat_Filter = raw_sales_data ['Item_Type'] == 'Meat'"
      ],
      "execution_count": 225,
      "outputs": []
    },
    {
      "cell_type": "code",
      "metadata": {
        "id": "GX0rEDYzJ7jq"
      },
      "source": [
        "FruitVeg_Dataframe = raw_sales_data.loc[FruitVeg_Filter]\n",
        "Meat_Dataframe = raw_sales_data.loc[Meat_Filter]"
      ],
      "execution_count": 226,
      "outputs": []
    },
    {
      "cell_type": "code",
      "metadata": {
        "colab": {
          "base_uri": "https://localhost:8080/"
        },
        "id": "GtvPtTAtKbwO",
        "outputId": "1bd1dc56-d73f-423a-bdc9-8144dc3731fa"
      },
      "source": [
        "FruitVeg_Count = len(raw_sales_data.loc[FruitVeg_Filter].index)\n",
        "print(FruitVeg_Count)\n",
        "Meat_Count = len(raw_sales_data.loc[Meat_Filter].index)\n",
        "print(Meat_Count)"
      ],
      "execution_count": 227,
      "outputs": [
        {
          "output_type": "stream",
          "name": "stdout",
          "text": [
            "1232\n",
            "425\n"
          ]
        }
      ]
    },
    {
      "cell_type": "code",
      "metadata": {
        "colab": {
          "base_uri": "https://localhost:8080/",
          "height": 322
        },
        "id": "XllkDhA-K8br",
        "outputId": "89105352-0b5c-485f-e579-45ce18d1c94d"
      },
      "source": [
        "labels = ['Meat','Fruit and Vegetables']\n",
        "plt.bar(labels, [FruitVeg_Count,Meat_Count],color=['b','orange']);\n",
        "plt.title('Carnivore and Vegetarian Market Reach',fontsize=20)\n",
        "plt.xlabel('Food Type',fontsize=15)\n",
        "plt.ylabel('Food Count', fontsize=15)"
      ],
      "execution_count": 228,
      "outputs": [
        {
          "output_type": "execute_result",
          "data": {
            "text/plain": [
              "Text(0, 0.5, 'Food Count')"
            ]
          },
          "metadata": {},
          "execution_count": 228
        },
        {
          "output_type": "display_data",
          "data": {
            "image/png": "[encoded data removed]",
            "text/plain": [
              "<Figure size 432x288 with 1 Axes>"
            ]
          },
          "metadata": {
            "needs_background": "light"
          }
        }
      ]
    },
    {
      "cell_type": "code",
      "metadata": {
        "id": "prfn1Sp4M6-U"
      },
      "source": [
        "#The graph above illuminates to the interested party the degree of which our product is composed of products that specifically appeal to those who consume meat compared to that which appeals to those who choose to eat strictly fruits and vegetables."
      ],
      "execution_count": 229,
      "outputs": []
    },
    {
      "cell_type": "markdown",
      "metadata": {
        "id": "Z9CyXlvDdCcT"
      },
      "source": [
        "## Final"
      ]
    },
    {
      "cell_type": "markdown",
      "metadata": {
        "id": "9jsFHCpe29vr"
      },
      "source": [
        "Decision Tree"
      ]
    },
    {
      "cell_type": "code",
      "metadata": {
        "id": "ht0z-YPKdh8p"
      },
      "source": [
        "raw_sales_data['Item_Fat_Content'] = raw_sales_data['Item_Fat_Content'].replace({'Low Fat': 0, 'Regular': 1,})"
      ],
      "execution_count": 230,
      "outputs": []
    },
    {
      "cell_type": "code",
      "metadata": {
        "id": "XRzo-c0FxaQK",
        "colab": {
          "base_uri": "https://localhost:8080/"
        },
        "outputId": "070f9bc7-5402-4c61-ddd4-ce216ffb125b"
      },
      "source": [
        "raw_sales_data['Item_Fat_Content'].value_counts(normalize = True)"
      ],
      "execution_count": 231,
      "outputs": [
        {
          "output_type": "execute_result",
          "data": {
            "text/plain": [
              "0    0.647307\n",
              "1    0.352693\n",
              "Name: Item_Fat_Content, dtype: float64"
            ]
          },
          "metadata": {},
          "execution_count": 231
        }
      ]
    },
    {
      "cell_type": "code",
      "metadata": {
        "id": "qIKhHIfHc9ZX"
      },
      "source": [
        "X = raw_sales_data.drop(columns = ['Item_Fat_Content', 'Item_Identifier', 'Item_Type', 'Outlet_Identifier', 'Outlet_Size', 'Outlet_Location_Type', 'Outlet_Type'])\n",
        "y = raw_sales_data['Item_Fat_Content']"
      ],
      "execution_count": 232,
      "outputs": []
    },
    {
      "cell_type": "code",
      "metadata": {
        "id": "rANTSA_g0zVv"
      },
      "source": [
        "#Removed Columns as the data type did not have a significant impact on the process at hand"
      ],
      "execution_count": 233,
      "outputs": []
    },
    {
      "cell_type": "code",
      "metadata": {
        "id": "M-TGGqf-eMBX"
      },
      "source": [
        "X_train, X_test, y_train, y_test = train_test_split(X, y, random_state=42)"
      ],
      "execution_count": 234,
      "outputs": []
    },
    {
      "cell_type": "code",
      "metadata": {
        "id": "gGoWAvd0eRbz"
      },
      "source": [
        "dec_tree = DecisionTreeClassifier(random_state =42)"
      ],
      "execution_count": 235,
      "outputs": []
    },
    {
      "cell_type": "code",
      "metadata": {
        "colab": {
          "base_uri": "https://localhost:8080/"
        },
        "id": "KCaNKjBqeTHm",
        "outputId": "5491fd7d-5dd0-4f7f-ec39-37082bf3839c"
      },
      "source": [
        "dec_tree.fit(X_train, y_train)"
      ],
      "execution_count": 236,
      "outputs": [
        {
          "output_type": "execute_result",
          "data": {
            "text/plain": [
              "DecisionTreeClassifier(ccp_alpha=0.0, class_weight=None, criterion='gini',\n",
              "                       max_depth=None, max_features=None, max_leaf_nodes=None,\n",
              "                       min_impurity_decrease=0.0, min_impurity_split=None,\n",
              "                       min_samples_leaf=1, min_samples_split=2,\n",
              "                       min_weight_fraction_leaf=0.0, presort='deprecated',\n",
              "                       random_state=42, splitter='best')"
            ]
          },
          "metadata": {},
          "execution_count": 236
        }
      ]
    },
    {
      "cell_type": "code",
      "metadata": {
        "id": "zm-0JqqZ0SS8"
      },
      "source": [
        "train_preds = dec_tree.predict(X_train)\n",
        "test_preds = dec_tree.predict(X_test)"
      ],
      "execution_count": 237,
      "outputs": []
    },
    {
      "cell_type": "code",
      "metadata": {
        "colab": {
          "base_uri": "https://localhost:8080/"
        },
        "id": "ntDYnG4H1r-Q",
        "outputId": "de0fe114-39e0-439d-82a5-fe155dfd6e83"
      },
      "source": [
        "train_score = dec_tree.score(X_train, y_train)\n",
        "test_score = dec_tree.score(X_test, y_test)\n",
        "print(train_score)\n",
        "print(test_score)"
      ],
      "execution_count": 238,
      "outputs": [
        {
          "output_type": "stream",
          "name": "stdout",
          "text": [
            "1.0\n",
            "0.8071328015016425\n"
          ]
        }
      ]
    },
    {
      "cell_type": "markdown",
      "metadata": {
        "id": "9-R6QXXR3A34"
      },
      "source": [
        "Bagged Tree"
      ]
    },
    {
      "cell_type": "code",
      "metadata": {
        "colab": {
          "base_uri": "https://localhost:8080/"
        },
        "id": "t3vd9jMY3FHO",
        "outputId": "66ce6eba-cdab-4f0d-dcdc-bcdb989d162d"
      },
      "source": [
        "bagreg = BaggingRegressor(random_state = 42)\n",
        "bagreg"
      ],
      "execution_count": 239,
      "outputs": [
        {
          "output_type": "execute_result",
          "data": {
            "text/plain": [
              "BaggingRegressor(base_estimator=None, bootstrap=True, bootstrap_features=False,\n",
              "                 max_features=1.0, max_samples=1.0, n_estimators=10,\n",
              "                 n_jobs=None, oob_score=False, random_state=42, verbose=0,\n",
              "                 warm_start=False)"
            ]
          },
          "metadata": {},
          "execution_count": 239
        }
      ]
    },
    {
      "cell_type": "code",
      "metadata": {
        "colab": {
          "base_uri": "https://localhost:8080/"
        },
        "id": "IbyNMeon3GCa",
        "outputId": "e72f88e4-35ba-4fa9-9f3e-a6968c397848"
      },
      "source": [
        "bagreg.fit(X_train, y_train)"
      ],
      "execution_count": 240,
      "outputs": [
        {
          "output_type": "execute_result",
          "data": {
            "text/plain": [
              "BaggingRegressor(base_estimator=None, bootstrap=True, bootstrap_features=False,\n",
              "                 max_features=1.0, max_samples=1.0, n_estimators=10,\n",
              "                 n_jobs=None, oob_score=False, random_state=42, verbose=0,\n",
              "                 warm_start=False)"
            ]
          },
          "metadata": {},
          "execution_count": 240
        }
      ]
    },
    {
      "cell_type": "code",
      "metadata": {
        "colab": {
          "base_uri": "https://localhost:8080/"
        },
        "id": "wFINmIsI3Pcw",
        "outputId": "db30f6e3-abc4-40b9-81f5-32c0dd648e95"
      },
      "source": [
        "bagreg.predict(X_test)"
      ],
      "execution_count": 241,
      "outputs": [
        {
          "output_type": "execute_result",
          "data": {
            "text/plain": [
              "array([0. , 0.6, 0.2, ..., 0.3, 0. , 0.2])"
            ]
          },
          "metadata": {},
          "execution_count": 241
        }
      ]
    },
    {
      "cell_type": "code",
      "metadata": {
        "colab": {
          "base_uri": "https://localhost:8080/"
        },
        "id": "KvbE9sbp3qw4",
        "outputId": "669d0581-5493-46ce-ac4a-4f6c4b3ee3c6"
      },
      "source": [
        "bagreg_train_score = bagreg.score(X_train, y_train)\n",
        "bagreg_test_score = bagreg.score(X_test, y_test)\n",
        "print(bagreg_train_score)\n",
        "print(bagreg_test_score)"
      ],
      "execution_count": 242,
      "outputs": [
        {
          "output_type": "stream",
          "name": "stdout",
          "text": [
            "0.892845601212424\n",
            "0.3901563196946719\n"
          ]
        }
      ]
    },
    {
      "cell_type": "markdown",
      "metadata": {
        "id": "nOfCupM_4HoE"
      },
      "source": [
        "Random Tree Model"
      ]
    },
    {
      "cell_type": "code",
      "metadata": {
        "colab": {
          "base_uri": "https://localhost:8080/"
        },
        "id": "kS5AkfWJ3tPA",
        "outputId": "ebefc9f4-11b2-46c4-c687-2e7de82543d2"
      },
      "source": [
        "rf = RandomForestRegressor(random_state = 42)\n",
        "rf"
      ],
      "execution_count": 245,
      "outputs": [
        {
          "output_type": "execute_result",
          "data": {
            "text/plain": [
              "RandomForestRegressor(bootstrap=True, ccp_alpha=0.0, criterion='mse',\n",
              "                      max_depth=None, max_features='auto', max_leaf_nodes=None,\n",
              "                      max_samples=None, min_impurity_decrease=0.0,\n",
              "                      min_impurity_split=None, min_samples_leaf=1,\n",
              "                      min_samples_split=2, min_weight_fraction_leaf=0.0,\n",
              "                      n_estimators=100, n_jobs=None, oob_score=False,\n",
              "                      random_state=42, verbose=0, warm_start=False)"
            ]
          },
          "metadata": {},
          "execution_count": 245
        }
      ]
    },
    {
      "cell_type": "code",
      "metadata": {
        "colab": {
          "base_uri": "https://localhost:8080/"
        },
        "id": "DBiqeVgt4LUJ",
        "outputId": "55fc7471-3edb-44c1-9d49-303c480d4d02"
      },
      "source": [
        "rf.fit(X_train, y_train)"
      ],
      "execution_count": 246,
      "outputs": [
        {
          "output_type": "execute_result",
          "data": {
            "text/plain": [
              "RandomForestRegressor(bootstrap=True, ccp_alpha=0.0, criterion='mse',\n",
              "                      max_depth=None, max_features='auto', max_leaf_nodes=None,\n",
              "                      max_samples=None, min_impurity_decrease=0.0,\n",
              "                      min_impurity_split=None, min_samples_leaf=1,\n",
              "                      min_samples_split=2, min_weight_fraction_leaf=0.0,\n",
              "                      n_estimators=100, n_jobs=None, oob_score=False,\n",
              "                      random_state=42, verbose=0, warm_start=False)"
            ]
          },
          "metadata": {},
          "execution_count": 246
        }
      ]
    },
    {
      "cell_type": "code",
      "metadata": {
        "colab": {
          "base_uri": "https://localhost:8080/"
        },
        "id": "vh_AFRGQ4bMh",
        "outputId": "9d10f308-ee74-48c2-c7d9-a186fb7db1ec"
      },
      "source": [
        "rf.predict(X_test)"
      ],
      "execution_count": 247,
      "outputs": [
        {
          "output_type": "execute_result",
          "data": {
            "text/plain": [
              "array([0.31, 0.37, 0.45, ..., 0.16, 0.  , 0.3 ])"
            ]
          },
          "metadata": {},
          "execution_count": 247
        }
      ]
    },
    {
      "cell_type": "code",
      "metadata": {
        "colab": {
          "base_uri": "https://localhost:8080/"
        },
        "id": "aIyP7cQy4eJj",
        "outputId": "aaa166b9-76fd-4f1b-c34d-638754e13c56"
      },
      "source": [
        "rf_train_score = rf.score(X_train, y_train)\n",
        "rf_test_score = rf.score(X_test, y_test)\n",
        "print(rf_train_score)\n",
        "print(rf_test_score)"
      ],
      "execution_count": 248,
      "outputs": [
        {
          "output_type": "stream",
          "name": "stdout",
          "text": [
            "0.9259223389908761\n",
            "0.4617846947106713\n"
          ]
        }
      ]
    },
    {
      "cell_type": "markdown",
      "metadata": {
        "id": "7EESWeRF5Fpf"
      },
      "source": [
        "Decision Tree: 0.8071328015016425\n",
        "\n",
        "Bagged Tree: 0.3901563196946719\n",
        "\n",
        "Random Forest Regressor: 0.4617846947106713\n",
        "\n",
        "Based off of the performance of the three models, the Decision Tree had the most accurate result, which would be my most recommended model. "
      ]
    }
  ]
}